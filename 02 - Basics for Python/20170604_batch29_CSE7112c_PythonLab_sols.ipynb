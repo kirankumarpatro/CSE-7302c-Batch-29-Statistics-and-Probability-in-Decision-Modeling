{
 "cells": [
  {
   "cell_type": "markdown",
   "metadata": {},
   "source": [
    "# Introduction to Python\n",
    "## Agenda:\n",
    "\n",
    "* **Background and Introduction**  (40 mins)\n",
    "    * History, installation, Jupyter basic features\n",
    "* ** Data Types ** (1 hour)\n",
    "    * Data Types, variable assignmemt, list indexing/slicing, Tuples, Dictionaries\n",
    "* **Installing Packages** (20 mins)\n",
    "    * import\n",
    "    * pip install\n",
    "    * manually install\n",
    "    \n",
    "* **Fuctions, loops, list comprehension,lambda, map, filter** (1 hour)\n",
    "\n",
    "* ** Numpy ** (1.5 hours)\n",
    "* ** DataFrames ** (1.5 hours)\n",
    "* ** Visualization ** (1 hour)\n",
    "* ** Practice & Excercise ** (1 hour)\n",
    "\n",
    "## Instructions\n",
    "\n",
    "* Try to finish your code blocks as much as you can from the instructions but you are falling behind, move on to next section\n",
    "* Do not call mentors to debug your code during the session. We will spend time on that in last hour\n"
   ]
  },
  {
   "cell_type": "markdown",
   "metadata": {},
   "source": [
    "## =========================================================================\n",
    "## History\n",
    "* Developed as hobby project by dutch programmer **Guido Von Russom** in late 80s \n",
    "* He is regarded as '**B**enevolent **D**ictator **F**or **L**ife' for Python Development \n",
    "\n",
    "## Installing Python\n",
    "1. Python Engine\n",
    "2. IDE (Spyder, Pycharm, etc)\n",
    "3. Package Manager and packages\n",
    "4. IPython (Interactive Python)\n",
    "5. .....\n",
    "\n",
    "Installing ***Anaconda*** takes care of everything and typically this is the only tool you need to install\n",
    "\n",
    "## Python Versions\n",
    "\n",
    "* Python 2.x and Python 3.x\n",
    "* Minor syntax differences between both and hence not 100 % compatible\n",
    "* This class will be on Python 3.x\n",
    "\n",
    "## Python vs iPython \n",
    "\n",
    "* Script vs Notebook\n",
    "* Most commonly used Notebook interface is Jupyter and is extremely popular (much more than R Notebooks)\n",
    "* Unlike R, where both the R script and R noteboks are supported within RStudio, Jupyer notebook interface is very different than that of Spyder\n",
    "* Spyder does support iPython console in its IDE but it is not very popular\n",
    "\n"
   ]
  },
  {
   "cell_type": "markdown",
   "metadata": {},
   "source": [
    "## Jupyter features\n",
    "* Launching a notebook, closing it and shutting it down\n",
    "* Inserting, deleting a cell\n",
    "* Markdown vs code cell\n",
    "* Running one cell, all cell, all above and all below\n",
    "* Kernel busy indicator\n",
    "* Save as/export\n",
    "* Unlike R, bulk commenting is not supported (frustrating feature!)"
   ]
  },
  {
   "cell_type": "markdown",
   "metadata": {},
   "source": [
    "# Assignment and Printing\n",
    "\n",
    "* If print command is not explicitly provided, only last line is printed\n",
    "* Note that R Notebook 'chunks' do not behave this way and all output is printed irrespective of explicit print\n",
    "* Variable naming: Unlike R, using '.' in variable names is a bad idea. '.' represents attributes of an object"
   ]
  },
  {
   "cell_type": "code",
   "execution_count": 1,
   "metadata": {},
   "outputs": [
    {
     "name": "stdout",
     "output_type": "stream",
     "text": [
      "6\n",
      "7\n"
     ]
    },
    {
     "data": {
      "text/plain": [
       "5"
      ]
     },
     "execution_count": 1,
     "metadata": {},
     "output_type": "execute_result"
    }
   ],
   "source": [
    "x=5\n",
    "y=6\n",
    "z=7\n",
    "x\n",
    "print(y)\n",
    "print(z)\n",
    "x"
   ]
  },
  {
   "cell_type": "markdown",
   "metadata": {},
   "source": [
    " ## <font color='red'> Student Activity Question 1 [1 min] </font>\n",
    " \n",
    "##### Define a as  'alpha' and b as 'bet'. Now add a and b with + operator. Print explicilty your result"
   ]
  },
  {
   "cell_type": "code",
   "execution_count": 2,
   "metadata": {},
   "outputs": [
    {
     "data": {
      "text/plain": [
       "120"
      ]
     },
     "execution_count": 2,
     "metadata": {},
     "output_type": "execute_result"
    }
   ],
   "source": [
    "l=list(range(0,360,3))\n",
    "len(l)"
   ]
  },
  {
   "cell_type": "markdown",
   "metadata": {},
   "source": [
    "## Data Types in Python\n",
    "\n",
    "### In basic Python\n",
    "1. Numbers\n",
    "1. Booleans\n",
    "1. Strings\n",
    "1. lists \n",
    "2. tuples \n",
    "3. dictionaries\n",
    "5. frozensets\n",
    "\n",
    "### In higher level packages\n",
    "6. **DataFrame** from Pandas\n",
    "2. **Array** from numpy "
   ]
  },
  {
   "cell_type": "markdown",
   "metadata": {},
   "source": [
    "## Numbers, Boolean and Strings"
   ]
  },
  {
   "cell_type": "code",
   "execution_count": 2,
   "metadata": {},
   "outputs": [
    {
     "data": {
      "text/plain": [
       "bool"
      ]
     },
     "execution_count": 2,
     "metadata": {},
     "output_type": "execute_result"
    }
   ],
   "source": [
    "x=True # inte, float and bool values of x\n",
    "type(x) # Determine type of x"
   ]
  },
  {
   "cell_type": "markdown",
   "metadata": {},
   "source": [
    "## Lists\n",
    "\n",
    "* Can be created using '[' brackets or *list* function\n",
    "* Mathematical operators like + or * do not add or multiply"
   ]
  },
  {
   "cell_type": "code",
   "execution_count": 3,
   "metadata": {},
   "outputs": [
    {
     "data": {
      "text/plain": [
       "['steel', 200, 'glass', 50, 'rubber', 0.1]"
      ]
     },
     "execution_count": 3,
     "metadata": {},
     "output_type": "execute_result"
    }
   ],
   "source": [
    "# List of strings (material)\n",
    "# List of numbers (Youngs modulus)\n",
    "# List of mix (material and youngs modulus)\n",
    "# List of list (each material with its Y in individual list)\n",
    "# Adding a list of numbers\n",
    "# multiplying a list of numbers\n",
    "\n",
    "['steel','glass','rubber']\n",
    "[200,50,0.2]\n",
    "['steel',200,'glass',50,'rubber',0.1]\n",
    "\n"
   ]
  },
  {
   "cell_type": "markdown",
   "metadata": {},
   "source": [
    " ## <font color='red'> Student Activity Question 2 [2 mins]</font>\n",
    " \n",
    "* Create a list L1 of first 5 even numbers in number series\n",
    "* Now Create a list L2 of first 5 odd numbers in number series\n",
    "    1. add and print expliclty sum of L1 and L2 (use + operator). \n",
    "    2. Now multiply L1 with 2 and print it explicitly \n",
    "    \n",
    "Are the results as you expected? For mathematical operations use numpy arrays which will be covered later in the notebook"
   ]
  },
  {
   "cell_type": "code",
   "execution_count": null,
   "metadata": {
    "collapsed": true
   },
   "outputs": [],
   "source": []
  },
  {
   "cell_type": "markdown",
   "metadata": {},
   "source": [
    "## Indexing and Slicing\n",
    "\n",
    "* Simple\n",
    "* Negative\n",
    "* Slicing [Start inclusive: end exclusive]\n",
    "* Alternate Slicing\n",
    "* Empty/Default index [0 or last]"
   ]
  },
  {
   "cell_type": "code",
   "execution_count": 4,
   "metadata": {},
   "outputs": [
    {
     "name": "stdout",
     "output_type": "stream",
     "text": [
      "[0, 2, 4, 6, 8, 10, 12, 14, 16, 18]\n"
     ]
    },
    {
     "data": {
      "text/plain": [
       "4"
      ]
     },
     "execution_count": 4,
     "metadata": {},
     "output_type": "execute_result"
    }
   ],
   "source": [
    "# List of range of first 20 numbers\n",
    "#take help on range\n",
    "# List of range of first 2 numbers alternately and assign it to L. Print explicitly\n",
    "\n",
    "list(range(20))\n",
    "range?\n",
    "L1=list(range(0,20,2))\n",
    "print(L1)\n",
    "\n",
    "# index 1 and -1 (note the difference in R)\n",
    "# 1 to 4\n",
    "# 4 to last\n",
    "# first to 5\n",
    "# -3 to last\n",
    "# 1 to 5 in steps of 2\n",
    "# -6 to last in steps of 2 (skip middle arguments with double colon)\n",
    "# Add element to a list. Requires assigment to change the list\n",
    "# Delete element using del function (del of list of index). Does not require assignment to change the list\n",
    "# access index using list.index function\n",
    "L1[1]\n",
    "L1[-1]\n",
    "L1[1:4]\n",
    "L1[4:]\n",
    "L1[:5]\n",
    "L1[-3:]\n",
    "L1[1:5:2]\n",
    "L1[-6::2]\n",
    "L1+[22] \n",
    "del(L1[-1])\n",
    "L1.index(8)"
   ]
  },
  {
   "cell_type": "code",
   "execution_count": 5,
   "metadata": {},
   "outputs": [
    {
     "name": "stdout",
     "output_type": "stream",
     "text": [
      "[1, 2, 4]\n",
      "[1, 2, 4]\n",
      "[1, 2]\n",
      "[1, 2, 4]\n"
     ]
    }
   ],
   "source": [
    "a=[1,2,3,4]\n",
    "b=a\n",
    "del(b[2])\n",
    "print(b)\n",
    "print(a)\n",
    "L1.index(4)\n",
    "c=b.copy() \n",
    "del(b[2])\n",
    "print(b)\n",
    "print(c)"
   ]
  },
  {
   "cell_type": "markdown",
   "metadata": {},
   "source": [
    "## <font color='red'> Student Activity Question 3 [5 mins]</font>\n",
    "\n",
    "1. Create a list of angles from 0 to 360 in steps of 30. Call this list 'angle'. Use range function. (Do not worry about specifying units)\n",
    "2. Is 360 last element in the list? If not, edit the argument in the range function to ensure 360 is the last element in the list.\n",
    "3. Find the indices of first and last elemet in second quadrant (i.e. 90 and 270 degrees). use index function. store these indices on i1 and i2 variables respectively\n",
    "4. i1 and i2 are indices counting from front. Find the reverse index of 90 and 270. (Hint: use `len` function to calculate length of the list and think how you can use length of the list to calculate reverse indices of 90 and 270. store these indices in i1_rev and i2_rev\n",
    "4. Now make a subset list from 'angle' of all the angles in second quadrant in reverse order (starting from 270 and ending at 90). Hint: Increment should be -1 here.  \n",
    "5. If your list ends at 120, think about what you should add or subtract to/from i1_rev in your subset operation. (remember list excludes the value on last index on right. So you need to increment/decrement index accordingly)"
   ]
  },
  {
   "cell_type": "code",
   "execution_count": 6,
   "metadata": {},
   "outputs": [
    {
     "name": "stdout",
     "output_type": "stream",
     "text": [
      "[0, 30, 60, 90, 120, 150, 180, 210, 240, 270, 300, 330, 360]\n",
      "[270, 240, 210, 180, 150, 120, 90]\n"
     ]
    }
   ],
   "source": [
    "angle=list(range(0,361,30))\n",
    "print(angle)\n",
    "i1=angle.index(90)\n",
    "i2=angle.index(270)\n",
    "i1_rev=i1-len(angle)\n",
    "i2_rev=i2-len(angle)\n",
    "angle2=angle[i2_rev:i1_rev-1:-1]\n",
    "print(angle2)"
   ]
  },
  {
   "cell_type": "markdown",
   "metadata": {},
   "source": [
    "### Copying Lists"
   ]
  },
  {
   "cell_type": "code",
   "execution_count": 7,
   "metadata": {},
   "outputs": [
    {
     "name": "stdout",
     "output_type": "stream",
     "text": [
      "[2, 4, 6, 10]\n",
      "[2, 4, 6, 10]\n",
      "[2, 4, 6]\n"
     ]
    }
   ],
   "source": [
    "# create a new list L1 and make a copy L2 = L1\n",
    "# delete third element in L2\n",
    "# check L1\n",
    "# Now do L1.copy and recheck above steps\n",
    "# repeat with colon operation\n",
    "L1=[2,4,6,8,10]\n",
    "L2=L1\n",
    "del(L2[3])\n",
    "print(L2)\n",
    "print(L1)\n",
    "L3=L1[:] #or L3=L1.copy\n",
    "del(L3[3])\n",
    "print(L3)\n"
   ]
  },
  {
   "cell_type": "markdown",
   "metadata": {},
   "source": [
    "## Installing Packages\n",
    "* Most packages are pre-installed with anaconda\n",
    "* Need to import them (import pkg as short name)\n",
    "* sometimes need to use pip install from command line (any folder). Try pip install seaborn\n",
    "* Even in rare times pip install may not work (when corporate firewall blocks pip or no internet). Need to manually download package\n",
    "    * Download package from web (mostly on GitHub) or from storage device. Your folder should have setup.py file in it. \n",
    "    * Open command line/terminal on that folder\n",
    "    * run this command (without quotes) 'python setup.py install'"
   ]
  },
  {
   "cell_type": "markdown",
   "metadata": {},
   "source": [
    "## Tuples \n",
    "* Tuples are exactly like lists but immuatable. Elements can be added but not deleted\n",
    "* Some other differences which you will see as we move along"
   ]
  },
  {
   "cell_type": "code",
   "execution_count": 8,
   "metadata": {},
   "outputs": [],
   "source": [
    "#creat3 a tuple of 3 elements\n",
    "# add a new number to it (new number should also be a tuple with comma at end)\n",
    "# try to del thrid element in tuple\n",
    "\n",
    "\n"
   ]
  },
  {
   "cell_type": "markdown",
   "metadata": {},
   "source": [
    "## Dictionaries\n",
    "\n",
    "* Keys and Values"
   ]
  },
  {
   "cell_type": "code",
   "execution_count": 9,
   "metadata": {},
   "outputs": [],
   "source": [
    "# create d dictionary with metals and their Y. Then add possions ratio as well\n",
    "# add another metal in the dictionary and value is just a number and not a list\n",
    "d={'steel':[200,0.25],'copper':[120,0.2],'glass':[50,0.1]}\n",
    "d['wood']=40"
   ]
  },
  {
   "cell_type": "code",
   "execution_count": null,
   "metadata": {
    "collapsed": true
   },
   "outputs": [],
   "source": []
  },
  {
   "cell_type": "markdown",
   "metadata": {},
   "source": [
    "## <font color='red'> Student Activity Question 4 [3 mins]</font>\n",
    "\n",
    "1. Convert the table below in dictionary named 'states'. [source](https://en.wikipedia.org/wiki/States_and_union_territories_of_India)\n",
    "    * Use the state name as key\n",
    "    * Include only three elements in value list [population, capital, Is capital same as largest city (True/False)]\n",
    "    * example {state1: [25,000,'cap1',True]}\n",
    "2. Extract information of 'Bihar' from states\n",
    "3. Google search and find information about Telangana and add to this dictionary\n",
    "!['example'](states.png)"
   ]
  },
  {
   "cell_type": "code",
   "execution_count": 10,
   "metadata": {},
   "outputs": [
    {
     "data": {
      "text/plain": [
       "{'Andhra Pradesh': [49506799, 'Hyderabad', False],\n",
       " 'Arunachal Pradesh': [1383727, 'Itanagar', True],\n",
       " 'Assam': [31205576, 'Dispur', False],\n",
       " 'Bihar': [104099452, 'Patna', True],\n",
       " 'Telangana': [100000, 'Hyderabad', True]}"
      ]
     },
     "execution_count": 10,
     "metadata": {},
     "output_type": "execute_result"
    }
   ],
   "source": [
    "states={'Andhra Pradesh':[49506799,'Hyderabad',False],'Arunachal Pradesh':[1383727,'Itanagar',True],'Assam':[31205576,'Dispur',False],'Bihar':[104099452,'Patna',True]}\n",
    "states['Bihar']\n",
    "states['Telangana']=[100000,'Hyderabad',True]\n",
    "states"
   ]
  },
  {
   "cell_type": "markdown",
   "metadata": {},
   "source": [
    "## Functions and lambda"
   ]
  },
  {
   "cell_type": "code",
   "execution_count": 11,
   "metadata": {},
   "outputs": [
    {
     "data": {
      "text/plain": [
       "1.0476190476190477"
      ]
     },
     "execution_count": 11,
     "metadata": {},
     "output_type": "execute_result"
    }
   ],
   "source": [
    "# define function called deg_rad with input angle and convert from degreess to radians. \n",
    "# return rad_angle\n",
    "# calcluate rad angle of 360\n",
    "# Note that return argument is optional in R and it retunrs the last calculated value by default\n",
    "# Show that these functions cannot work on a list (althouh can work on numpy array)\n",
    "\n",
    "def deg_rad(angle):\n",
    "    rad_angle=angle/360*22/7\n",
    "    return(rad_angle)\n",
    "\n",
    "\n",
    "\n",
    "deg_rad(360)\n",
    "\n",
    "# define lambda function with same feature. pass another variable called rotate to show multiple parameters can be passed\n",
    "# test function with angle and rotate angle (converted to radian from above function)\n",
    "deg_rad_inline=lambda angle,rotate: angle/360*22/7+rotate\n",
    "\n",
    "deg_rad_inline(30,deg_rad(90))"
   ]
  },
  {
   "cell_type": "markdown",
   "metadata": {},
   "source": [
    "## Map and Filter\n",
    "* Almost all applications of Map and filter can be replaced by List Comprehensions (to be covered next)\n",
    "* Guido himself strongly dislikes maps and filter recommends use of list comprehension \n",
    "* Map and filter sometimes can be faster in operations"
   ]
  },
  {
   "cell_type": "code",
   "execution_count": 12,
   "metadata": {},
   "outputs": [
    {
     "data": {
      "text/plain": [
       "[120, 150, 180, 210, 240]"
      ]
     },
     "execution_count": 12,
     "metadata": {},
     "output_type": "execute_result"
    }
   ],
   "source": [
    "\n",
    "# Map deg_rad function from above to list of 30,60,90\n",
    "# use list to output in the right format\n",
    "# show map with lambda by copying entire inline lambda from above. Make sure rotate list 1,1,1 is also supplied\n",
    "\n",
    "(list(map(deg_rad,[30,60,90])))\n",
    "list(map(lambda angle,rotate: angle/360*22/7+rotate,[30,60,90],[1,1,1]))\n",
    "\n",
    "# create angles vector range 0 to 360 in steps of 30\n",
    "# filter angles greater than 90\n",
    "# filter angles greater than 90 and less than 270 (each condtion in parenthisis)\n",
    "\n",
    "angles=list(range(0,360,30))\n",
    "(list(filter(lambda a:(a>90) & (a<270),angles)))"
   ]
  },
  {
   "cell_type": "markdown",
   "metadata": {},
   "source": [
    "## For Loops "
   ]
  },
  {
   "cell_type": "code",
   "execution_count": 13,
   "metadata": {},
   "outputs": [],
   "source": [
    "\n",
    "rad_angles=[]\n",
    "for a in [30,60,90]:\n",
    "    r=a/360*22/7\n",
    "    rad_angles.append(r)\n",
    "    \n",
    "#print(rad_angles)\n",
    "\n",
    "\n",
    "q2_angles=[]\n",
    "for a in [30,60,90,180,240,270,360]:\n",
    "    if (a>=90) & (a<270):\n",
    "        q2_angles.append(a)\n",
    "\n",
    "#print(q2_angles)    "
   ]
  },
  {
   "cell_type": "markdown",
   "metadata": {},
   "source": [
    "## List comprehensions\n",
    " * Extremely powerful, Elegant and in single line\n",
    " * Output is always a list\n",
    " * If you are using for-loops, think list comprehension first. (some cases may still need for loops)\n",
    " * can be little confusing to read first\n",
    " * Structure with if and with if-else is slightly different\n",
    " * nested for loops can really get confusing\n"
   ]
  },
  {
   "cell_type": "code",
   "execution_count": 59,
   "metadata": {},
   "outputs": [
    {
     "data": {
      "text/plain": [
       "[0, 0, 0, 90, 120, 150, 180, 210, 240, 0, 0, 0]"
      ]
     },
     "execution_count": 59,
     "metadata": {},
     "output_type": "execute_result"
    }
   ],
   "source": [
    "\n",
    "# List 1 mapping angles to radians\n",
    "# List 2 filter with if condition. if comes at the end\n",
    "# filter with if else. for comes at the end. zeros for else\n",
    "\n",
    "\n",
    "[a/360*22/7 for a in [30,60,90] ]\n",
    "\n",
    "[a for a in angles if (a>=90) & (a<270)]\n",
    "\n",
    "[a  if (a>=90) & (a<270) else 0 for a in angles]\n",
    "\n"
   ]
  },
  {
   "cell_type": "code",
   "execution_count": 81,
   "metadata": {},
   "outputs": [
    {
     "data": {
      "text/plain": [
       "20"
      ]
     },
     "execution_count": 81,
     "metadata": {},
     "output_type": "execute_result"
    }
   ],
   "source": [
    "h=[60,74,65,66,69]\n",
    "w=[50,120,80,75,95]\n",
    "c=list(zip(h,w))\n",
    "[y/(x*0.0254)**2 for (x,y) in c]\n",
    "a=np.array([1,2,3])\n",
    "b=np.array([5,6,1])\n",
    "np.matmul(a,b)\n",
    "\n",
    "#np.random.randint(4,5)"
   ]
  },
  {
   "cell_type": "markdown",
   "metadata": {},
   "source": [
    "##### <font color='red'> Student Activity Question 5 [10 mins]</font>\n",
    "\n",
    "* Below formula represents Body Mass Index of a person\n",
    "\n",
    "$$ BMI= \\frac{\\text{weight in kg}}{(\\text{Height in m})^2}$$\n",
    "\n",
    "* Write a function to calculate BMI of a person. Name this function bmifunc. \n",
    "* The function should accept the height in inches. (So you need to convert height into m inside the function)\n",
    "* Using check what would be bmi of a person weighing 80 kg and 6 foot tool (make sure you use right units in your function)\n",
    "* Now use following lists \n",
    "    * heights=[60,74,65,66,69] \n",
    "    * weights=[50,120,80,75,95]\n",
    "* map bmifunc over heights and weight and store in variable bmi_list. \n",
    "    * Hint: Your map function will have 3 inputs. First is the function itself and next two are the lists. \n",
    "    * Make sure you apply list on map function to get list as output\n",
    "* Explicitly print bmi_list\n",
    "* Now use list comprehsion (not filter) to obtain normal BMI values (between 25 and 30) within variable bmi_list   "
   ]
  },
  {
   "cell_type": "code",
   "execution_count": 15,
   "metadata": {},
   "outputs": [
    {
     "name": "stdout",
     "output_type": "stream",
     "text": [
      "[21.527820833419444, 33.96646676419722, 29.34917112437775, 26.68738119845386, 30.928438248390886]\n"
     ]
    },
    {
     "data": {
      "text/plain": [
       "[29.34917112437775, 26.68738119845386]"
      ]
     },
     "execution_count": 15,
     "metadata": {},
     "output_type": "execute_result"
    }
   ],
   "source": [
    "def bmifunc(h,w):\n",
    "    h=h*0.0254\n",
    "    bmi=w/h**2  \n",
    "    return(bmi)\n",
    "\n",
    "bmifunc(74,100)\n",
    "\n",
    "heights=[60,74,65,66,69]\n",
    "weights=[50,120,80,75,95]\n",
    "\n",
    "bmi_list=list(map(bmifunc,heights,weights))\n",
    "\n",
    "print(bmi_list)\n",
    "[w for w in bmi_list if (w>25) & (w<30)]"
   ]
  },
  {
   "cell_type": "markdown",
   "metadata": {},
   "source": [
    "## Numpy\n",
    "* Core library for scientific computing in Python. \n",
    "* Provides a high performance multidimensional array objects and tools\n",
    "* <img src=\"numpyarray.png\" />"
   ]
  },
  {
   "cell_type": "code",
   "execution_count": 16,
   "metadata": {
    "collapsed": true
   },
   "outputs": [],
   "source": [
    "import numpy as np"
   ]
  },
  {
   "cell_type": "code",
   "execution_count": 17,
   "metadata": {},
   "outputs": [
    {
     "name": "stdout",
     "output_type": "stream",
     "text": [
      "[1 2 3]\n",
      "[[ 1.  2.  3.]\n",
      " [ 4.  7.  9.]]\n",
      "[[ 0.  0.  0.  0.]\n",
      " [ 0.  0.  0.  0.]\n",
      " [ 0.  0.  0.  0.]]\n",
      "[[ 1.  0.  0.]\n",
      " [ 0.  1.  0.]\n",
      " [ 0.  0.  1.]]\n"
     ]
    }
   ],
   "source": [
    "# create 1-D array 1,2,3\n",
    "# create 2-D array with second row and data type float\n",
    "# Initialize array of size 3,4 with zeros\n",
    "#create identit matrix of 3X3\n",
    "\n",
    "a=np.array([1,2,3])\n",
    "b=np.array([(1,2,3),[4,7,9]],dtype=float)\n",
    "z=np.zeros((3,4))\n",
    "e=np.eye(3)\n",
    "\n",
    "print(a)\n",
    "print(b)\n",
    "print(z)\n",
    "print(e)"
   ]
  },
  {
   "cell_type": "code",
   "execution_count": 18,
   "metadata": {},
   "outputs": [
    {
     "name": "stdout",
     "output_type": "stream",
     "text": [
      "[10 15 20 25]\n",
      "[ 0.    0.25  0.5   0.75  1.    1.25  1.5   1.75  2.  ]\n",
      "[[ 0.28661845  0.13515632  0.57935903]\n",
      " [ 0.77798561  0.46956381  0.14440741]]\n"
     ]
    }
   ],
   "source": [
    "#arange example\n",
    "#linspace exaxmple\n",
    "#use explicit print in each\n",
    "\n",
    "print(np.arange(10,26,5))\n",
    "print(np.linspace(0,2,9))\n",
    "print(np.random.random((2,3)))"
   ]
  },
  {
   "cell_type": "markdown",
   "metadata": {},
   "source": [
    "### Numpy Data Types"
   ]
  },
  {
   "cell_type": "code",
   "execution_count": 19,
   "metadata": {},
   "outputs": [
    {
     "name": "stdout",
     "output_type": "stream",
     "text": [
      "2\n",
      "2.78\n",
      "(3+4j)\n",
      "False\n",
      "True\n",
      "b'2.78'\n"
     ]
    }
   ],
   "source": [
    "#int64 and float32 on decimal number\n",
    "# complex number with real and imag part\n",
    "# boolean on zero and eight\n",
    "# string on some decimal number\n",
    "#use explicit printing for each\n",
    "\n",
    "print(np.int64(2.78))\n",
    "print(np.float32(2.78))\n",
    "print(np.complex(3,4))\n",
    "print(np.bool(0))\n",
    "print(np.bool(8))\n",
    "print(np.string_(2.78))"
   ]
  },
  {
   "cell_type": "markdown",
   "metadata": {},
   "source": [
    "### Basic inspecting operations"
   ]
  },
  {
   "cell_type": "code",
   "execution_count": 20,
   "metadata": {},
   "outputs": [
    {
     "name": "stdout",
     "output_type": "stream",
     "text": [
      "(2, 3)\n",
      "3\n",
      "2\n",
      "6\n",
      "float64\n"
     ]
    },
    {
     "data": {
      "text/plain": [
       "dtype('int64')"
      ]
     },
     "execution_count": 20,
     "metadata": {},
     "output_type": "execute_result"
    }
   ],
   "source": [
    "# shape, len, ndim, size,dtype\n",
    "# use astype to convert to int and save in same variable\n",
    "# check new dtype of b \n",
    "print(b.shape)\n",
    "print(len(a))\n",
    "print(b.ndim)\n",
    "print(b.size)\n",
    "print(b.dtype)\n",
    "b=b.astype(int)\n",
    "b.dtype"
   ]
  },
  {
   "cell_type": "markdown",
   "metadata": {},
   "source": [
    "### Array operation\n"
   ]
  },
  {
   "cell_type": "code",
   "execution_count": 21,
   "metadata": {},
   "outputs": [
    {
     "name": "stdout",
     "output_type": "stream",
     "text": [
      "[1 2 3]\n",
      "[[1 2 3]\n",
      " [4 7 9]]\n",
      "[[ 2  4  6]\n",
      " [ 5  9 12]]\n",
      "[[ 0  0  0]\n",
      " [-3 -5 -6]]\n",
      "[[ 1  4  9]\n",
      " [ 4 14 27]]\n",
      "(2, 3)\n",
      "(3,)\n",
      "[1 2 3]\n",
      "[14 45]\n",
      "14\n"
     ]
    }
   ],
   "source": [
    "# add, subtract, multiply, shape, dot, matmul\n",
    "\n",
    "print(a)\n",
    "print(b)\n",
    "print(a+b)\n",
    "print(a-b)\n",
    "print(a*b)\n",
    "print(b.shape)\n",
    "print(a.shape)\n",
    "print(a)\n",
    "print(np.matmul(b,a.T))\n",
    "print(np.dot(a,a))"
   ]
  },
  {
   "cell_type": "markdown",
   "metadata": {},
   "source": [
    "### Some advanced array operations"
   ]
  },
  {
   "cell_type": "code",
   "execution_count": 22,
   "metadata": {},
   "outputs": [
    {
     "name": "stdout",
     "output_type": "stream",
     "text": [
      "[[  2.71828183   7.3890561 ]\n",
      " [ 20.08553692  54.59815003]]\n",
      "[[ 1.          1.41421356]\n",
      " [ 1.73205081  2.        ]]\n",
      "[[ 0.84147098  0.90929743]\n",
      " [ 0.14112001 -0.7568025 ]]\n",
      "[[ 0.          0.69314718]\n",
      " [ 1.09861229  1.38629436]]\n",
      "10.0\n",
      "1.0\n",
      "9.0\n"
     ]
    }
   ],
   "source": [
    "x=np.array([(1,2),(3,4)],dtype=float)\n",
    "y=np.array([(3,4),(9,5)],dtype=float)\n",
    "\n",
    "# exp, sqrt, sin log sum min max\n",
    "\n",
    "print(np.exp(x))\n",
    "print(np.sqrt(x))\n",
    "print(np.sin(x))\n",
    "print(np.log(x))\n",
    "print(np.sum(x))\n",
    "print(np.min(x))\n",
    "print(np.max(y))"
   ]
  },
  {
   "cell_type": "markdown",
   "metadata": {},
   "source": [
    "### Logical operations"
   ]
  },
  {
   "cell_type": "code",
   "execution_count": 23,
   "metadata": {},
   "outputs": [
    {
     "name": "stdout",
     "output_type": "stream",
     "text": [
      "[[ True False  True]\n",
      " [False False False]]\n",
      "[[False False  True]\n",
      " [ True  True  True]]\n"
     ]
    }
   ],
   "source": [
    "a=np.array([1,7,9])\n",
    "b=np.array([[1,2,9],[5,8,7]])\n",
    "\n",
    "print(a==b)\n",
    "print(b>4)"
   ]
  },
  {
   "cell_type": "markdown",
   "metadata": {},
   "source": [
    "### Subset and slicing"
   ]
  },
  {
   "cell_type": "code",
   "execution_count": 24,
   "metadata": {},
   "outputs": [
    {
     "name": "stdout",
     "output_type": "stream",
     "text": [
      "[[ 4  5 10]\n",
      " [ 5 10 15]\n",
      " [ 7  8  3]\n",
      " [ 4  6  9]\n",
      " [10 15 20]]\n",
      "[ 5 10 15]\n",
      "[10 15  3  9 20]\n",
      "[[ 5 10]\n",
      " [10 15]]\n"
     ]
    }
   ],
   "source": [
    "# given the array c, get\n",
    "# second row and third column in 1 operation at a tim\n",
    "# top right 2 X 2 matrix\n",
    "\n",
    "c=np.array([[4,5,10],[5,10,15],[7,8,3],[4,6,9],[10,15,20]])\n",
    "print(c)\n",
    "print(c[1,:])\n",
    "print(c[:,2])\n",
    "print(c[0:2,1:3])"
   ]
  },
  {
   "cell_type": "markdown",
   "metadata": {},
   "source": [
    "##### <font color='red'> Student Activity Question 6 [5 mins]</font>\n",
    "    * iris is a popular dataset often used in R and Python for learning data manipulation and visualization\n",
    "    * It has about 150 different measuremets of iris flower. \n",
    "    * Attributes which are measured are sepal length, sepal width, petal length and petal width\n",
    "    * you can load that dataset from popular ML library scikit learn using the code below (Copy or type the code in python cell block)\n",
    "\n",
    "```python\n",
    "from sklearn import datasets\n",
    "iris = datasets.load_iris()\n",
    "X = iris.data\n",
    "\n",
    "```\n",
    "**Questions**\n",
    "1. print shape and dimension of this array X\n",
    "2. Noting that first 2 columns are sepal data and last 2 columns are petal data, slice a sub-array whith only petal data and measuremets (rows) from 100 to 140. \n",
    "3. Call this submatrix as Xsub and print it explicitly in the cell block\n",
    "4. print explcitly shape of Xsub"
   ]
  },
  {
   "cell_type": "code",
   "execution_count": 25,
   "metadata": {},
   "outputs": [
    {
     "name": "stdout",
     "output_type": "stream",
     "text": [
      "(65, 2)\n"
     ]
    }
   ],
   "source": [
    "from sklearn import datasets\n",
    "iris = datasets.load_iris()\n",
    "X = iris.data\n",
    "X.shape\n",
    "\n",
    "Xsub=X[74:139,2:]\n",
    "print(Xsub.shape)"
   ]
  },
  {
   "cell_type": "markdown",
   "metadata": {
    "collapsed": true
   },
   "source": [
    "## Pandas DataFrame\n"
   ]
  },
  {
   "cell_type": "code",
   "execution_count": 26,
   "metadata": {
    "collapsed": true
   },
   "outputs": [],
   "source": [
    "# import pandas\n",
    "import pandas as pd"
   ]
  },
  {
   "cell_type": "code",
   "execution_count": 27,
   "metadata": {},
   "outputs": [
    {
     "name": "stdout",
     "output_type": "stream",
     "text": [
      "(577, 18)\n",
      "Index(['id', 'season', 'city', 'date', 'team1', 'team2', 'toss_winner',\n",
      "       'toss_decision', 'result', 'dl_applied', 'winner', 'win_by_runs',\n",
      "       'win_by_wickets', 'player_of_match', 'venue', 'umpire1', 'umpire2',\n",
      "       'umpire3'],\n",
      "      dtype='object')\n",
      "[0, 1, 2, 3, 4, 5, 6, 7, 8, 9]\n"
     ]
    },
    {
     "data": {
      "text/html": [
       "<div>\n",
       "<table border=\"1\" class=\"dataframe\">\n",
       "  <thead>\n",
       "    <tr style=\"text-align: right;\">\n",
       "      <th></th>\n",
       "      <th>id</th>\n",
       "      <th>season</th>\n",
       "      <th>city</th>\n",
       "      <th>date</th>\n",
       "      <th>team1</th>\n",
       "      <th>team2</th>\n",
       "      <th>toss_winner</th>\n",
       "      <th>toss_decision</th>\n",
       "      <th>result</th>\n",
       "      <th>dl_applied</th>\n",
       "      <th>winner</th>\n",
       "      <th>win_by_runs</th>\n",
       "      <th>win_by_wickets</th>\n",
       "      <th>player_of_match</th>\n",
       "      <th>venue</th>\n",
       "      <th>umpire1</th>\n",
       "      <th>umpire2</th>\n",
       "      <th>umpire3</th>\n",
       "    </tr>\n",
       "  </thead>\n",
       "  <tbody>\n",
       "    <tr>\n",
       "      <th>0</th>\n",
       "      <td>1</td>\n",
       "      <td>2008</td>\n",
       "      <td>Bangalore</td>\n",
       "      <td>2008-04-18</td>\n",
       "      <td>Kolkata Knight Riders</td>\n",
       "      <td>Royal Challengers Bangalore</td>\n",
       "      <td>Royal Challengers Bangalore</td>\n",
       "      <td>field</td>\n",
       "      <td>normal</td>\n",
       "      <td>0</td>\n",
       "      <td>Kolkata Knight Riders</td>\n",
       "      <td>140</td>\n",
       "      <td>0</td>\n",
       "      <td>BB McCullum</td>\n",
       "      <td>M Chinnaswamy Stadium</td>\n",
       "      <td>Asad Rauf</td>\n",
       "      <td>RE Koertzen</td>\n",
       "      <td>NaN</td>\n",
       "    </tr>\n",
       "    <tr>\n",
       "      <th>1</th>\n",
       "      <td>2</td>\n",
       "      <td>2008</td>\n",
       "      <td>Chandigarh</td>\n",
       "      <td>2008-04-19</td>\n",
       "      <td>Chennai Super Kings</td>\n",
       "      <td>Kings XI Punjab</td>\n",
       "      <td>Chennai Super Kings</td>\n",
       "      <td>bat</td>\n",
       "      <td>normal</td>\n",
       "      <td>0</td>\n",
       "      <td>Chennai Super Kings</td>\n",
       "      <td>33</td>\n",
       "      <td>0</td>\n",
       "      <td>MEK Hussey</td>\n",
       "      <td>Punjab Cricket Association Stadium, Mohali</td>\n",
       "      <td>MR Benson</td>\n",
       "      <td>SL Shastri</td>\n",
       "      <td>NaN</td>\n",
       "    </tr>\n",
       "    <tr>\n",
       "      <th>2</th>\n",
       "      <td>3</td>\n",
       "      <td>2008</td>\n",
       "      <td>Delhi</td>\n",
       "      <td>2008-04-19</td>\n",
       "      <td>Rajasthan Royals</td>\n",
       "      <td>Delhi Daredevils</td>\n",
       "      <td>Rajasthan Royals</td>\n",
       "      <td>bat</td>\n",
       "      <td>normal</td>\n",
       "      <td>0</td>\n",
       "      <td>Delhi Daredevils</td>\n",
       "      <td>0</td>\n",
       "      <td>9</td>\n",
       "      <td>MF Maharoof</td>\n",
       "      <td>Feroz Shah Kotla</td>\n",
       "      <td>Aleem Dar</td>\n",
       "      <td>GA Pratapkumar</td>\n",
       "      <td>NaN</td>\n",
       "    </tr>\n",
       "    <tr>\n",
       "      <th>3</th>\n",
       "      <td>4</td>\n",
       "      <td>2008</td>\n",
       "      <td>Mumbai</td>\n",
       "      <td>2008-04-20</td>\n",
       "      <td>Mumbai Indians</td>\n",
       "      <td>Royal Challengers Bangalore</td>\n",
       "      <td>Mumbai Indians</td>\n",
       "      <td>bat</td>\n",
       "      <td>normal</td>\n",
       "      <td>0</td>\n",
       "      <td>Royal Challengers Bangalore</td>\n",
       "      <td>0</td>\n",
       "      <td>5</td>\n",
       "      <td>MV Boucher</td>\n",
       "      <td>Wankhede Stadium</td>\n",
       "      <td>SJ Davis</td>\n",
       "      <td>DJ Harper</td>\n",
       "      <td>NaN</td>\n",
       "    </tr>\n",
       "    <tr>\n",
       "      <th>4</th>\n",
       "      <td>5</td>\n",
       "      <td>2008</td>\n",
       "      <td>Kolkata</td>\n",
       "      <td>2008-04-20</td>\n",
       "      <td>Deccan Chargers</td>\n",
       "      <td>Kolkata Knight Riders</td>\n",
       "      <td>Deccan Chargers</td>\n",
       "      <td>bat</td>\n",
       "      <td>normal</td>\n",
       "      <td>0</td>\n",
       "      <td>Kolkata Knight Riders</td>\n",
       "      <td>0</td>\n",
       "      <td>5</td>\n",
       "      <td>DJ Hussey</td>\n",
       "      <td>Eden Gardens</td>\n",
       "      <td>BF Bowden</td>\n",
       "      <td>K Hariharan</td>\n",
       "      <td>NaN</td>\n",
       "    </tr>\n",
       "  </tbody>\n",
       "</table>\n",
       "</div>"
      ],
      "text/plain": [
       "   id  season        city        date                  team1  \\\n",
       "0   1    2008   Bangalore  2008-04-18  Kolkata Knight Riders   \n",
       "1   2    2008  Chandigarh  2008-04-19    Chennai Super Kings   \n",
       "2   3    2008       Delhi  2008-04-19       Rajasthan Royals   \n",
       "3   4    2008      Mumbai  2008-04-20         Mumbai Indians   \n",
       "4   5    2008     Kolkata  2008-04-20        Deccan Chargers   \n",
       "\n",
       "                         team2                  toss_winner toss_decision  \\\n",
       "0  Royal Challengers Bangalore  Royal Challengers Bangalore         field   \n",
       "1              Kings XI Punjab          Chennai Super Kings           bat   \n",
       "2             Delhi Daredevils             Rajasthan Royals           bat   \n",
       "3  Royal Challengers Bangalore               Mumbai Indians           bat   \n",
       "4        Kolkata Knight Riders              Deccan Chargers           bat   \n",
       "\n",
       "   result  dl_applied                       winner  win_by_runs  \\\n",
       "0  normal           0        Kolkata Knight Riders          140   \n",
       "1  normal           0          Chennai Super Kings           33   \n",
       "2  normal           0             Delhi Daredevils            0   \n",
       "3  normal           0  Royal Challengers Bangalore            0   \n",
       "4  normal           0        Kolkata Knight Riders            0   \n",
       "\n",
       "   win_by_wickets player_of_match                                       venue  \\\n",
       "0               0     BB McCullum                       M Chinnaswamy Stadium   \n",
       "1               0      MEK Hussey  Punjab Cricket Association Stadium, Mohali   \n",
       "2               9     MF Maharoof                            Feroz Shah Kotla   \n",
       "3               5      MV Boucher                            Wankhede Stadium   \n",
       "4               5       DJ Hussey                                Eden Gardens   \n",
       "\n",
       "     umpire1         umpire2  umpire3  \n",
       "0  Asad Rauf     RE Koertzen      NaN  \n",
       "1  MR Benson      SL Shastri      NaN  \n",
       "2  Aleem Dar  GA Pratapkumar      NaN  \n",
       "3   SJ Davis       DJ Harper      NaN  \n",
       "4  BF Bowden     K Hariharan      NaN  "
      ]
     },
     "execution_count": 27,
     "metadata": {},
     "output_type": "execute_result"
    }
   ],
   "source": [
    "#read matches.csv from data folder\n",
    "#print ts shape, columns and first 10 index (df.index) and needs to be inside list\n",
    "# print head of df\n",
    "df=pd.read_csv('data/matches.csv')\n",
    "\n",
    "print(df.shape)\n",
    "print(df.columns)\n",
    "print(list(df.index)[:10])\n",
    "df.head()"
   ]
  },
  {
   "cell_type": "markdown",
   "metadata": {},
   "source": [
    "### Subsetting DataFrames"
   ]
  },
  {
   "cell_type": "code",
   "execution_count": 28,
   "metadata": {},
   "outputs": [
    {
     "data": {
      "text/plain": [
       "3"
      ]
     },
     "execution_count": 28,
     "metadata": {},
     "output_type": "execute_result"
    }
   ],
   "source": [
    "# Only Bangalore games\n",
    "# subset data frame where city is bangalore\n",
    "# on the above subset get winners list\n",
    "# use isin function to subset where season is 2008,2015. \n",
    "# get only season and toss_winner from above subset\n",
    "#use value_counts() in winner\n",
    "# use isnull().sum() to get total of NAs\n",
    "\n",
    "df[df['city']=='Bangalore']['winner']\n",
    "df[df['season'].isin([2008,2015])][['season','toss_winner']]\n",
    "df['winner'].value_counts()\n",
    "df['winner'].isnull().sum() # sum counts number of Trues only\n"
   ]
  },
  {
   "cell_type": "markdown",
   "metadata": {},
   "source": [
    "# index, ix, loc, iloc"
   ]
  },
  {
   "cell_type": "code",
   "execution_count": 29,
   "metadata": {},
   "outputs": [
    {
     "data": {
      "text/html": [
       "<div>\n",
       "<table border=\"1\" class=\"dataframe\">\n",
       "  <thead>\n",
       "    <tr style=\"text-align: right;\">\n",
       "      <th></th>\n",
       "      <th>index</th>\n",
       "      <th>id</th>\n",
       "      <th>season</th>\n",
       "      <th>city</th>\n",
       "      <th>team1</th>\n",
       "      <th>team2</th>\n",
       "      <th>toss_winner</th>\n",
       "      <th>toss_decision</th>\n",
       "      <th>result</th>\n",
       "      <th>dl_applied</th>\n",
       "      <th>winner</th>\n",
       "      <th>win_by_runs</th>\n",
       "      <th>win_by_wickets</th>\n",
       "      <th>player_of_match</th>\n",
       "      <th>venue</th>\n",
       "      <th>umpire1</th>\n",
       "      <th>umpire2</th>\n",
       "      <th>umpire3</th>\n",
       "    </tr>\n",
       "    <tr>\n",
       "      <th>date</th>\n",
       "      <th></th>\n",
       "      <th></th>\n",
       "      <th></th>\n",
       "      <th></th>\n",
       "      <th></th>\n",
       "      <th></th>\n",
       "      <th></th>\n",
       "      <th></th>\n",
       "      <th></th>\n",
       "      <th></th>\n",
       "      <th></th>\n",
       "      <th></th>\n",
       "      <th></th>\n",
       "      <th></th>\n",
       "      <th></th>\n",
       "      <th></th>\n",
       "      <th></th>\n",
       "      <th></th>\n",
       "    </tr>\n",
       "  </thead>\n",
       "  <tbody>\n",
       "    <tr>\n",
       "      <th>2008-04-26</th>\n",
       "      <td>10</td>\n",
       "      <td>11</td>\n",
       "      <td>2008</td>\n",
       "      <td>Bangalore</td>\n",
       "      <td>Royal Challengers Bangalore</td>\n",
       "      <td>Rajasthan Royals</td>\n",
       "      <td>Rajasthan Royals</td>\n",
       "      <td>field</td>\n",
       "      <td>normal</td>\n",
       "      <td>0</td>\n",
       "      <td>Rajasthan Royals</td>\n",
       "      <td>0</td>\n",
       "      <td>7</td>\n",
       "      <td>SR Watson</td>\n",
       "      <td>M Chinnaswamy Stadium</td>\n",
       "      <td>MR Benson</td>\n",
       "      <td>IL Howell</td>\n",
       "      <td>NaN</td>\n",
       "    </tr>\n",
       "    <tr>\n",
       "      <th>2008-04-26</th>\n",
       "      <td>11</td>\n",
       "      <td>12</td>\n",
       "      <td>2008</td>\n",
       "      <td>Chennai</td>\n",
       "      <td>Kolkata Knight Riders</td>\n",
       "      <td>Chennai Super Kings</td>\n",
       "      <td>Kolkata Knight Riders</td>\n",
       "      <td>bat</td>\n",
       "      <td>normal</td>\n",
       "      <td>0</td>\n",
       "      <td>Chennai Super Kings</td>\n",
       "      <td>0</td>\n",
       "      <td>9</td>\n",
       "      <td>JDP Oram</td>\n",
       "      <td>MA Chidambaram Stadium, Chepauk</td>\n",
       "      <td>BF Bowden</td>\n",
       "      <td>AV Jayaprakash</td>\n",
       "      <td>NaN</td>\n",
       "    </tr>\n",
       "  </tbody>\n",
       "</table>\n",
       "</div>"
      ],
      "text/plain": [
       "            index  id  season       city                        team1  \\\n",
       "date                                                                    \n",
       "2008-04-26     10  11    2008  Bangalore  Royal Challengers Bangalore   \n",
       "2008-04-26     11  12    2008    Chennai        Kolkata Knight Riders   \n",
       "\n",
       "                          team2            toss_winner toss_decision  result  \\\n",
       "date                                                                           \n",
       "2008-04-26     Rajasthan Royals       Rajasthan Royals         field  normal   \n",
       "2008-04-26  Chennai Super Kings  Kolkata Knight Riders           bat  normal   \n",
       "\n",
       "            dl_applied               winner  win_by_runs  win_by_wickets  \\\n",
       "date                                                                       \n",
       "2008-04-26           0     Rajasthan Royals            0               7   \n",
       "2008-04-26           0  Chennai Super Kings            0               9   \n",
       "\n",
       "           player_of_match                            venue    umpire1  \\\n",
       "date                                                                     \n",
       "2008-04-26       SR Watson            M Chinnaswamy Stadium  MR Benson   \n",
       "2008-04-26        JDP Oram  MA Chidambaram Stadium, Chepauk  BF Bowden   \n",
       "\n",
       "                   umpire2  umpire3  \n",
       "date                                 \n",
       "2008-04-26       IL Howell      NaN  \n",
       "2008-04-26  AV Jayaprakash      NaN  "
      ]
     },
     "execution_count": 29,
     "metadata": {},
     "output_type": "execute_result"
    }
   ],
   "source": [
    "#reset index with inplace true\n",
    "# set index to set 'date' as index, inplace true\n",
    "# iloc 0 to 10\n",
    "#loc 2008-04-10\n",
    "#ix any\n",
    "#loc range 2008-04-18 to 2008-04-21\n",
    "#iloc from 10 to 12\n",
    "\n",
    "df.reset_index(inplace=True)\n",
    "df.set_index('date',inplace=True) # recall R uses upper case TRUE/FALSE\n",
    "df.iloc[0:10]\n",
    "df.loc['2008-04-18']\n",
    "df.ix[0]\n",
    "df.loc['2008-04-18':'2008-04-21']\n",
    "df.iloc[10:12]"
   ]
  },
  {
   "cell_type": "markdown",
   "metadata": {},
   "source": [
    "### Missing Values"
   ]
  },
  {
   "cell_type": "code",
   "execution_count": 30,
   "metadata": {},
   "outputs": [
    {
     "data": {
      "text/plain": [
       "index                0\n",
       "id                   0\n",
       "season               0\n",
       "city                 0\n",
       "team1                0\n",
       "team2                0\n",
       "toss_winner          0\n",
       "toss_decision        0\n",
       "result               0\n",
       "dl_applied           0\n",
       "winner               3\n",
       "win_by_runs          0\n",
       "win_by_wickets       0\n",
       "player_of_match      3\n",
       "venue                0\n",
       "umpire1              0\n",
       "umpire2              0\n",
       "umpire3            577\n",
       "dtype: int64"
      ]
     },
     "execution_count": 30,
     "metadata": {},
     "output_type": "execute_result"
    }
   ],
   "source": [
    "#filla atribute on df city. inplace true. bfill method\n",
    "#check with isnull sum\n",
    "\n",
    "df['city'].fillna('bfill',inplace=True)\n",
    "df.isnull().sum()"
   ]
  },
  {
   "cell_type": "markdown",
   "metadata": {},
   "source": [
    "### Creating DataFrames"
   ]
  },
  {
   "cell_type": "code",
   "execution_count": 31,
   "metadata": {},
   "outputs": [
    {
     "data": {
      "text/html": [
       "<div>\n",
       "<table border=\"1\" class=\"dataframe\">\n",
       "  <thead>\n",
       "    <tr style=\"text-align: right;\">\n",
       "      <th></th>\n",
       "      <th>Ductile</th>\n",
       "      <th>YM</th>\n",
       "      <th>metal</th>\n",
       "    </tr>\n",
       "  </thead>\n",
       "  <tbody>\n",
       "    <tr>\n",
       "      <th>m1</th>\n",
       "      <td>True</td>\n",
       "      <td>200</td>\n",
       "      <td>steel</td>\n",
       "    </tr>\n",
       "    <tr>\n",
       "      <th>m2</th>\n",
       "      <td>True</td>\n",
       "      <td>100</td>\n",
       "      <td>copper</td>\n",
       "    </tr>\n",
       "    <tr>\n",
       "      <th>m3</th>\n",
       "      <td>False</td>\n",
       "      <td>50</td>\n",
       "      <td>wood</td>\n",
       "    </tr>\n",
       "  </tbody>\n",
       "</table>\n",
       "</div>"
      ],
      "text/plain": [
       "   Ductile   YM   metal\n",
       "m1    True  200   steel\n",
       "m2    True  100  copper\n",
       "m3   False   50    wood"
      ]
     },
     "execution_count": 31,
     "metadata": {},
     "output_type": "execute_result"
    }
   ],
   "source": [
    "df1=pd.DataFrame({'metal':['steel','copper','wood'],'YM':[200,100,50],'Ductile':[True,True,False]},index=['m1','m2','m3'])\n",
    "df1"
   ]
  },
  {
   "cell_type": "markdown",
   "metadata": {},
   "source": [
    "## adding and dropping rows/colums"
   ]
  },
  {
   "cell_type": "code",
   "execution_count": 32,
   "metadata": {},
   "outputs": [
    {
     "data": {
      "text/html": [
       "<div>\n",
       "<table border=\"1\" class=\"dataframe\">\n",
       "  <thead>\n",
       "    <tr style=\"text-align: right;\">\n",
       "      <th></th>\n",
       "      <th>Ductile</th>\n",
       "      <th>YM</th>\n",
       "      <th>metal</th>\n",
       "    </tr>\n",
       "  </thead>\n",
       "  <tbody>\n",
       "    <tr>\n",
       "      <th>m1</th>\n",
       "      <td>True</td>\n",
       "      <td>200.0</td>\n",
       "      <td>steel</td>\n",
       "    </tr>\n",
       "    <tr>\n",
       "      <th>m2</th>\n",
       "      <td>True</td>\n",
       "      <td>100.0</td>\n",
       "      <td>copper</td>\n",
       "    </tr>\n",
       "    <tr>\n",
       "      <th>m3</th>\n",
       "      <td>False</td>\n",
       "      <td>50.0</td>\n",
       "      <td>wood</td>\n",
       "    </tr>\n",
       "  </tbody>\n",
       "</table>\n",
       "</div>"
      ],
      "text/plain": [
       "   Ductile     YM   metal\n",
       "m1    True  200.0   steel\n",
       "m2    True  100.0  copper\n",
       "m3   False   50.0    wood"
      ]
     },
     "execution_count": 32,
     "metadata": {},
     "output_type": "execute_result"
    }
   ],
   "source": [
    "#add column using ix on index m4. False, 0.1, cement\n",
    "#drop m4 axis 0 with drop method\n",
    "\n",
    "df1.ix['m4']=['False',0.1,'cement']\n",
    "df1.drop('m4',axis=0)"
   ]
  },
  {
   "cell_type": "markdown",
   "metadata": {},
   "source": [
    "### Merging dataframes "
   ]
  },
  {
   "cell_type": "code",
   "execution_count": 33,
   "metadata": {},
   "outputs": [
    {
     "data": {
      "text/html": [
       "<div>\n",
       "<table border=\"1\" class=\"dataframe\">\n",
       "  <thead>\n",
       "    <tr style=\"text-align: right;\">\n",
       "      <th></th>\n",
       "      <th>UTS (Mpa)</th>\n",
       "      <th>YM</th>\n",
       "      <th>metal</th>\n",
       "    </tr>\n",
       "  </thead>\n",
       "  <tbody>\n",
       "    <tr>\n",
       "      <th>me1</th>\n",
       "      <td>400</td>\n",
       "      <td>20</td>\n",
       "      <td>steel</td>\n",
       "    </tr>\n",
       "    <tr>\n",
       "      <th>me2</th>\n",
       "      <td>300</td>\n",
       "      <td>10</td>\n",
       "      <td>copper</td>\n",
       "    </tr>\n",
       "    <tr>\n",
       "      <th>me3</th>\n",
       "      <td>40</td>\n",
       "      <td>5</td>\n",
       "      <td>wood</td>\n",
       "    </tr>\n",
       "  </tbody>\n",
       "</table>\n",
       "</div>"
      ],
      "text/plain": [
       "     UTS (Mpa)  YM   metal\n",
       "me1        400  20   steel\n",
       "me2        300  10  copper\n",
       "me3         40   5    wood"
      ]
     },
     "execution_count": 33,
     "metadata": {},
     "output_type": "execute_result"
    }
   ],
   "source": [
    "df2=pd.DataFrame({'metal':['steel','copper','wood'],'UTS (Mpa)':[400,300,40], 'YM':[20,10,5]},index=['me1','me2','me3'])\n",
    "df2"
   ]
  },
  {
   "cell_type": "code",
   "execution_count": 34,
   "metadata": {},
   "outputs": [
    {
     "name": "stdout",
     "output_type": "stream",
     "text": [
      "   Ductile     YM   metal\n",
      "m1    True  200.0   steel\n",
      "m2    True  100.0  copper\n",
      "m3   False   50.0    wood\n",
      "m4   False    0.1  cement\n",
      "     UTS (Mpa)  YM   metal\n",
      "me1        400  20   steel\n",
      "me2        300  10  copper\n",
      "me3         40   5    wood\n"
     ]
    },
    {
     "data": {
      "text/html": [
       "<div>\n",
       "<table border=\"1\" class=\"dataframe\">\n",
       "  <thead>\n",
       "    <tr style=\"text-align: right;\">\n",
       "      <th></th>\n",
       "      <th>Ductile</th>\n",
       "      <th>YM_x</th>\n",
       "      <th>metal</th>\n",
       "      <th>UTS (Mpa)</th>\n",
       "      <th>YM_y</th>\n",
       "    </tr>\n",
       "  </thead>\n",
       "  <tbody>\n",
       "    <tr>\n",
       "      <th>0</th>\n",
       "      <td>True</td>\n",
       "      <td>200.0</td>\n",
       "      <td>steel</td>\n",
       "      <td>400.0</td>\n",
       "      <td>20.0</td>\n",
       "    </tr>\n",
       "    <tr>\n",
       "      <th>1</th>\n",
       "      <td>True</td>\n",
       "      <td>100.0</td>\n",
       "      <td>copper</td>\n",
       "      <td>300.0</td>\n",
       "      <td>10.0</td>\n",
       "    </tr>\n",
       "    <tr>\n",
       "      <th>2</th>\n",
       "      <td>False</td>\n",
       "      <td>50.0</td>\n",
       "      <td>wood</td>\n",
       "      <td>40.0</td>\n",
       "      <td>5.0</td>\n",
       "    </tr>\n",
       "    <tr>\n",
       "      <th>3</th>\n",
       "      <td>False</td>\n",
       "      <td>0.1</td>\n",
       "      <td>cement</td>\n",
       "      <td>NaN</td>\n",
       "      <td>NaN</td>\n",
       "    </tr>\n",
       "  </tbody>\n",
       "</table>\n",
       "</div>"
      ],
      "text/plain": [
       "  Ductile   YM_x   metal  UTS (Mpa)  YM_y\n",
       "0    True  200.0   steel      400.0  20.0\n",
       "1    True  100.0  copper      300.0  10.0\n",
       "2   False   50.0    wood       40.0   5.0\n",
       "3   False    0.1  cement        NaN   NaN"
      ]
     },
     "execution_count": 34,
     "metadata": {},
     "output_type": "execute_result"
    }
   ],
   "source": [
    "## concat df1 df2\n",
    "pd.concat([df1,df2])\n",
    "\n",
    "## merge df1 df2 on metal outer right and left index true\n",
    "print(df1)\n",
    "print(df2)\n",
    "pd.merge(df1,df2,on='metal',how='outer')"
   ]
  },
  {
   "cell_type": "markdown",
   "metadata": {},
   "source": [
    "##### <font color='red'> Student Activity Question 7 [10 mins]</font>\n",
    "   * Following two data sets are taken from [Government of India Community Data repository](https://community.data.gov.in/)\n",
    "   * First data set (roads.csv) is state wise road length (in km) as of 2013\n",
    "   * second data set (accidents.csv) is stae wise accidents from 2006 to 2015\n",
    "   * Following set of tasks require multiple sets. Feel free to use more than 1 cell to complete all the tasks. \n",
    "  \n",
    "   \n",
    "** Questions **\n",
    "1. read roads.csv using pandas read_csv and save it in data frame called roads\n",
    "2. read road_accidents.csv and save it in dataframe called accidents\n",
    "3. print shape of each of the data frame  \n",
    "4. display head of each dataframe \n",
    "5. Use .drop attribute to remove the columns 'category' and 'total' from the dataframe (use inplace=True as the last argument). Also remember that all the columns which needs to be removed has to be passed as a list\n",
    "6. Since the roads data is from 2013, you are only interested in accidents in the year 2013, one year before and one year later. Hence subset the accidents with only 4 columns State/UTs, 2012,2013 and 204\n",
    "7. Merge both the dataframes on State/UTs with inner join since you are not interested in keeping lot of NaNs in this merge data"
   ]
  },
  {
   "cell_type": "code",
   "execution_count": 35,
   "metadata": {},
   "outputs": [
    {
     "name": "stdout",
     "output_type": "stream",
     "text": [
      "(31, 4)\n",
      "  Category         States/UTs     Total  Surfaced\n",
      "0   States     Andhra Pradesh  168516.0     93573\n",
      "1   States  Arunachal Pradesh    5262.0      5262\n",
      "2   States              Assam  222087.0     27622\n",
      "3   States              Bihar  167579.0     94421\n",
      "4   States       Chhattisgarh   30295.0     30295\n",
      "(37, 11)\n",
      "          States/UTs     2006     2007     2008     2009     2010     2011  \\\n",
      "0     Andhra Pradesh  17468.0  18859.0  15320.0  17465.0  17996.0  19081.0   \n",
      "1  Arunachal Pradesh    177.0    110.0    212.0    138.0    165.0    140.0   \n",
      "2              Assam   2575.0   2579.0   2776.0   2938.0   3741.0   3951.0   \n",
      "3              Bihar   2048.0   2677.0   3661.0   3968.0   3908.0   4746.0   \n",
      "4       Chhattisgarh   5883.0   5492.0   5849.0   5616.0   6341.0   6402.0   \n",
      "\n",
      "      2012     2013  2014  2015  \n",
      "0  14578.0  17355.0  7815  7263  \n",
      "1    147.0    242.0   149   184  \n",
      "2   4174.0   4112.0  4186  4121  \n",
      "3   5124.0   4470.0  4580  4250  \n",
      "4   6183.0   5824.0  6049  6072  \n",
      "==================================================================================\n",
      "          States/UTs  Surfaced\n",
      "0     Andhra Pradesh     93573\n",
      "1  Arunachal Pradesh      5262\n",
      "2              Assam     27622\n",
      "3              Bihar     94421\n",
      "4       Chhattisgarh     30295\n",
      "          States/UTs     2012     2013  2014\n",
      "0     Andhra Pradesh  14578.0  17355.0  7815\n",
      "1  Arunachal Pradesh    147.0    242.0   149\n",
      "2              Assam   4174.0   4112.0  4186\n",
      "3              Bihar   5124.0   4470.0  4580\n",
      "4       Chhattisgarh   6183.0   5824.0  6049\n"
     ]
    }
   ],
   "source": [
    "roads=pd.read_csv('data/roads.csv')\n",
    "accidents=pd.read_csv('data/road_accidents.csv')\n",
    "print(roads.shape)\n",
    "print(roads.head())\n",
    "\n",
    "print(accidents.shape)\n",
    "print(accidents.head())\n",
    "print('==================================================================================')\n",
    "roads.drop(['Category','Total'],axis=1,inplace=True)\n",
    "print(roads.head())\n",
    "\n",
    "accidents=accidents[['States/UTs', '2012','2013','2014']]\n",
    "print(accidents.head())"
   ]
  },
  {
   "cell_type": "code",
   "execution_count": 36,
   "metadata": {},
   "outputs": [
    {
     "data": {
      "text/html": [
       "<div>\n",
       "<table border=\"1\" class=\"dataframe\">\n",
       "  <thead>\n",
       "    <tr style=\"text-align: right;\">\n",
       "      <th></th>\n",
       "      <th>States/UTs</th>\n",
       "      <th>Surfaced</th>\n",
       "      <th>2012</th>\n",
       "      <th>2013</th>\n",
       "      <th>2014</th>\n",
       "    </tr>\n",
       "  </thead>\n",
       "  <tbody>\n",
       "    <tr>\n",
       "      <th>0</th>\n",
       "      <td>Andhra Pradesh</td>\n",
       "      <td>93573.0</td>\n",
       "      <td>14578.0</td>\n",
       "      <td>17355.0</td>\n",
       "      <td>7815</td>\n",
       "    </tr>\n",
       "    <tr>\n",
       "      <th>1</th>\n",
       "      <td>Arunachal Pradesh</td>\n",
       "      <td>5262.0</td>\n",
       "      <td>147.0</td>\n",
       "      <td>242.0</td>\n",
       "      <td>149</td>\n",
       "    </tr>\n",
       "    <tr>\n",
       "      <th>2</th>\n",
       "      <td>Assam</td>\n",
       "      <td>27622.0</td>\n",
       "      <td>4174.0</td>\n",
       "      <td>4112.0</td>\n",
       "      <td>4186</td>\n",
       "    </tr>\n",
       "    <tr>\n",
       "      <th>3</th>\n",
       "      <td>Bihar</td>\n",
       "      <td>94421.0</td>\n",
       "      <td>5124.0</td>\n",
       "      <td>4470.0</td>\n",
       "      <td>4580</td>\n",
       "    </tr>\n",
       "    <tr>\n",
       "      <th>4</th>\n",
       "      <td>Chhattisgarh</td>\n",
       "      <td>30295.0</td>\n",
       "      <td>6183.0</td>\n",
       "      <td>5824.0</td>\n",
       "      <td>6049</td>\n",
       "    </tr>\n",
       "    <tr>\n",
       "      <th>5</th>\n",
       "      <td>Goa</td>\n",
       "      <td>3221.0</td>\n",
       "      <td>1752.0</td>\n",
       "      <td>1920.0</td>\n",
       "      <td>1904</td>\n",
       "    </tr>\n",
       "    <tr>\n",
       "      <th>6</th>\n",
       "      <td>Gujarat</td>\n",
       "      <td>50621.0</td>\n",
       "      <td>10382.0</td>\n",
       "      <td>9434.0</td>\n",
       "      <td>8597</td>\n",
       "    </tr>\n",
       "    <tr>\n",
       "      <th>7</th>\n",
       "      <td>Haryana</td>\n",
       "      <td>4622.0</td>\n",
       "      <td>3221.0</td>\n",
       "      <td>3485.0</td>\n",
       "      <td>3628</td>\n",
       "    </tr>\n",
       "    <tr>\n",
       "      <th>8</th>\n",
       "      <td>Himachal Pradesh</td>\n",
       "      <td>14714.0</td>\n",
       "      <td>1012.0</td>\n",
       "      <td>1093.0</td>\n",
       "      <td>1138</td>\n",
       "    </tr>\n",
       "    <tr>\n",
       "      <th>9</th>\n",
       "      <td>Jammu &amp; Kashmir</td>\n",
       "      <td>12404.0</td>\n",
       "      <td>2540.0</td>\n",
       "      <td>2601.0</td>\n",
       "      <td>2421</td>\n",
       "    </tr>\n",
       "    <tr>\n",
       "      <th>10</th>\n",
       "      <td>Jharkhand</td>\n",
       "      <td>17097.0</td>\n",
       "      <td>2496.0</td>\n",
       "      <td>2546.0</td>\n",
       "      <td>2547</td>\n",
       "    </tr>\n",
       "    <tr>\n",
       "      <th>11</th>\n",
       "      <td>Karnataka</td>\n",
       "      <td>90260.0</td>\n",
       "      <td>17797.0</td>\n",
       "      <td>18541.0</td>\n",
       "      <td>16617</td>\n",
       "    </tr>\n",
       "    <tr>\n",
       "      <th>12</th>\n",
       "      <td>Kerala</td>\n",
       "      <td>79354.0</td>\n",
       "      <td>14147.0</td>\n",
       "      <td>13775.0</td>\n",
       "      <td>14171</td>\n",
       "    </tr>\n",
       "    <tr>\n",
       "      <th>13</th>\n",
       "      <td>Madhya Pradesh</td>\n",
       "      <td>75718.0</td>\n",
       "      <td>26726.0</td>\n",
       "      <td>26253.0</td>\n",
       "      <td>27474</td>\n",
       "    </tr>\n",
       "    <tr>\n",
       "      <th>14</th>\n",
       "      <td>Maharashtra</td>\n",
       "      <td>193806.0</td>\n",
       "      <td>38227.0</td>\n",
       "      <td>36069.0</td>\n",
       "      <td>36473</td>\n",
       "    </tr>\n",
       "    <tr>\n",
       "      <th>15</th>\n",
       "      <td>Manipur</td>\n",
       "      <td>3919.0</td>\n",
       "      <td>502.0</td>\n",
       "      <td>246.0</td>\n",
       "      <td>166</td>\n",
       "    </tr>\n",
       "    <tr>\n",
       "      <th>16</th>\n",
       "      <td>Meghalaya</td>\n",
       "      <td>1194.0</td>\n",
       "      <td>354.0</td>\n",
       "      <td>346.0</td>\n",
       "      <td>311</td>\n",
       "    </tr>\n",
       "    <tr>\n",
       "      <th>17</th>\n",
       "      <td>Mizoram</td>\n",
       "      <td>2561.0</td>\n",
       "      <td>47.0</td>\n",
       "      <td>46.0</td>\n",
       "      <td>70</td>\n",
       "    </tr>\n",
       "    <tr>\n",
       "      <th>18</th>\n",
       "      <td>Nagaland</td>\n",
       "      <td>10930.0</td>\n",
       "      <td>32.0</td>\n",
       "      <td>50.0</td>\n",
       "      <td>248</td>\n",
       "    </tr>\n",
       "    <tr>\n",
       "      <th>19</th>\n",
       "      <td>Odisha</td>\n",
       "      <td>213446.0</td>\n",
       "      <td>4378.0</td>\n",
       "      <td>4500.0</td>\n",
       "      <td>4405</td>\n",
       "    </tr>\n",
       "    <tr>\n",
       "      <th>20</th>\n",
       "      <td>Punjab</td>\n",
       "      <td>62900.0</td>\n",
       "      <td>2175.0</td>\n",
       "      <td>2404.0</td>\n",
       "      <td>2641</td>\n",
       "    </tr>\n",
       "    <tr>\n",
       "      <th>21</th>\n",
       "      <td>Rajasthan</td>\n",
       "      <td>67313.0</td>\n",
       "      <td>8407.0</td>\n",
       "      <td>8653.0</td>\n",
       "      <td>8964</td>\n",
       "    </tr>\n",
       "    <tr>\n",
       "      <th>22</th>\n",
       "      <td>Sikkim</td>\n",
       "      <td>3343.0</td>\n",
       "      <td>53.0</td>\n",
       "      <td>80.0</td>\n",
       "      <td>146</td>\n",
       "    </tr>\n",
       "    <tr>\n",
       "      <th>23</th>\n",
       "      <td>Tamil Nadu</td>\n",
       "      <td>107803.0</td>\n",
       "      <td>28224.0</td>\n",
       "      <td>27333.0</td>\n",
       "      <td>24869</td>\n",
       "    </tr>\n",
       "    <tr>\n",
       "      <th>24</th>\n",
       "      <td>Tripura</td>\n",
       "      <td>8976.0</td>\n",
       "      <td>377.0</td>\n",
       "      <td>398.0</td>\n",
       "      <td>325</td>\n",
       "    </tr>\n",
       "    <tr>\n",
       "      <th>25</th>\n",
       "      <td>Uttarakhand</td>\n",
       "      <td>6933.0</td>\n",
       "      <td>796.0</td>\n",
       "      <td>649.0</td>\n",
       "      <td>735</td>\n",
       "    </tr>\n",
       "    <tr>\n",
       "      <th>26</th>\n",
       "      <td>Uttar Pradesh</td>\n",
       "      <td>79446.0</td>\n",
       "      <td>15715.0</td>\n",
       "      <td>15964.0</td>\n",
       "      <td>18605</td>\n",
       "    </tr>\n",
       "    <tr>\n",
       "      <th>27</th>\n",
       "      <td>West Bengal</td>\n",
       "      <td>38156.0</td>\n",
       "      <td>6025.0</td>\n",
       "      <td>5694.0</td>\n",
       "      <td>6892</td>\n",
       "    </tr>\n",
       "    <tr>\n",
       "      <th>28</th>\n",
       "      <td>Andaman &amp; Nicobar Islands</td>\n",
       "      <td>111.0</td>\n",
       "      <td>74.0</td>\n",
       "      <td>61.0</td>\n",
       "      <td>131</td>\n",
       "    </tr>\n",
       "    <tr>\n",
       "      <th>29</th>\n",
       "      <td>Chandigarh</td>\n",
       "      <td>967.0</td>\n",
       "      <td>367.0</td>\n",
       "      <td>327.0</td>\n",
       "      <td>336</td>\n",
       "    </tr>\n",
       "    <tr>\n",
       "      <th>30</th>\n",
       "      <td>All India</td>\n",
       "      <td>1400988.0</td>\n",
       "      <td>223933.0</td>\n",
       "      <td>222883.0</td>\n",
       "      <td>226415</td>\n",
       "    </tr>\n",
       "    <tr>\n",
       "      <th>31</th>\n",
       "      <td>Telangana</td>\n",
       "      <td>NaN</td>\n",
       "      <td>NaN</td>\n",
       "      <td>NaN</td>\n",
       "      <td>10328</td>\n",
       "    </tr>\n",
       "    <tr>\n",
       "      <th>32</th>\n",
       "      <td>Dadra &amp; Nagar Haveli</td>\n",
       "      <td>NaN</td>\n",
       "      <td>14.0</td>\n",
       "      <td>48.0</td>\n",
       "      <td>19</td>\n",
       "    </tr>\n",
       "    <tr>\n",
       "      <th>33</th>\n",
       "      <td>Daman &amp; Diu</td>\n",
       "      <td>NaN</td>\n",
       "      <td>15.0</td>\n",
       "      <td>16.0</td>\n",
       "      <td>16</td>\n",
       "    </tr>\n",
       "    <tr>\n",
       "      <th>34</th>\n",
       "      <td>Delhi</td>\n",
       "      <td>NaN</td>\n",
       "      <td>6937.0</td>\n",
       "      <td>7566.0</td>\n",
       "      <td>8623</td>\n",
       "    </tr>\n",
       "    <tr>\n",
       "      <th>35</th>\n",
       "      <td>Lakshadweep</td>\n",
       "      <td>NaN</td>\n",
       "      <td>0.0</td>\n",
       "      <td>0.0</td>\n",
       "      <td>0</td>\n",
       "    </tr>\n",
       "    <tr>\n",
       "      <th>36</th>\n",
       "      <td>Puducherry</td>\n",
       "      <td>NaN</td>\n",
       "      <td>935.0</td>\n",
       "      <td>782.0</td>\n",
       "      <td>836</td>\n",
       "    </tr>\n",
       "  </tbody>\n",
       "</table>\n",
       "</div>"
      ],
      "text/plain": [
       "                   States/UTs   Surfaced      2012      2013    2014\n",
       "0              Andhra Pradesh    93573.0   14578.0   17355.0    7815\n",
       "1           Arunachal Pradesh     5262.0     147.0     242.0     149\n",
       "2                       Assam    27622.0    4174.0    4112.0    4186\n",
       "3                       Bihar    94421.0    5124.0    4470.0    4580\n",
       "4                Chhattisgarh    30295.0    6183.0    5824.0    6049\n",
       "5                         Goa     3221.0    1752.0    1920.0    1904\n",
       "6                     Gujarat    50621.0   10382.0    9434.0    8597\n",
       "7                     Haryana     4622.0    3221.0    3485.0    3628\n",
       "8            Himachal Pradesh    14714.0    1012.0    1093.0    1138\n",
       "9             Jammu & Kashmir    12404.0    2540.0    2601.0    2421\n",
       "10                  Jharkhand    17097.0    2496.0    2546.0    2547\n",
       "11                  Karnataka    90260.0   17797.0   18541.0   16617\n",
       "12                     Kerala    79354.0   14147.0   13775.0   14171\n",
       "13             Madhya Pradesh    75718.0   26726.0   26253.0   27474\n",
       "14                Maharashtra   193806.0   38227.0   36069.0   36473\n",
       "15                    Manipur     3919.0     502.0     246.0     166\n",
       "16                  Meghalaya     1194.0     354.0     346.0     311\n",
       "17                    Mizoram     2561.0      47.0      46.0      70\n",
       "18                   Nagaland    10930.0      32.0      50.0     248\n",
       "19                     Odisha   213446.0    4378.0    4500.0    4405\n",
       "20                     Punjab    62900.0    2175.0    2404.0    2641\n",
       "21                  Rajasthan    67313.0    8407.0    8653.0    8964\n",
       "22                     Sikkim     3343.0      53.0      80.0     146\n",
       "23                 Tamil Nadu   107803.0   28224.0   27333.0   24869\n",
       "24                    Tripura     8976.0     377.0     398.0     325\n",
       "25                Uttarakhand     6933.0     796.0     649.0     735\n",
       "26              Uttar Pradesh    79446.0   15715.0   15964.0   18605\n",
       "27                West Bengal    38156.0    6025.0    5694.0    6892\n",
       "28  Andaman & Nicobar Islands      111.0      74.0      61.0     131\n",
       "29                 Chandigarh      967.0     367.0     327.0     336\n",
       "30                  All India  1400988.0  223933.0  222883.0  226415\n",
       "31                  Telangana        NaN       NaN       NaN   10328\n",
       "32       Dadra & Nagar Haveli        NaN      14.0      48.0      19\n",
       "33                Daman & Diu        NaN      15.0      16.0      16\n",
       "34                      Delhi        NaN    6937.0    7566.0    8623\n",
       "35                Lakshadweep        NaN       0.0       0.0       0\n",
       "36                 Puducherry        NaN     935.0     782.0     836"
      ]
     },
     "execution_count": 36,
     "metadata": {},
     "output_type": "execute_result"
    }
   ],
   "source": [
    "pd.merge(roads,accidents,on='States/UTs',how='outer')"
   ]
  },
  {
   "cell_type": "markdown",
   "metadata": {},
   "source": [
    "## Visualization Via MATPLOTLIB"
   ]
  },
  {
   "cell_type": "code",
   "execution_count": 37,
   "metadata": {
    "collapsed": true
   },
   "outputs": [],
   "source": [
    "## import matplotlib\n",
    "import matplotlib.pyplot as plt\n",
    "import numpy as np"
   ]
  },
  {
   "cell_type": "code",
   "execution_count": 38,
   "metadata": {},
   "outputs": [
    {
     "data": {
      "image/png": "[encoded data removed]",
      "text/plain": [
       "<matplotlib.figure.Figure at 0x112969d68>"
      ]
     },
     "metadata": {},
     "output_type": "display_data"
    }
   ],
   "source": [
    "# sine cosine plots, title, legend, (for legend use label keyword in plots)\n",
    "pi=22/7\n",
    "a=np.linspace(0,2*pi,100)\n",
    "b=np.sin(a)\n",
    "c=np.cos(a)\n",
    "\n",
    "plt.plot(a,b,label='sine')\n",
    "plt.plot(a,c,label='cosine')\n",
    "plt.xlabel('degrees')\n",
    "#plt.ylabel('sine')\n",
    "plt.title('Sine curve')\n",
    "plt.legend()\n",
    "plt.show()\n"
   ]
  },
  {
   "cell_type": "code",
   "execution_count": 39,
   "metadata": {},
   "outputs": [
    {
     "data": {
      "image/png": "[encoded data removed]",
      "text/plain": [
       "<matplotlib.figure.Figure at 0x112969b70>"
      ]
     },
     "metadata": {},
     "output_type": "display_data"
    }
   ],
   "source": [
    "# barplot on winnder data, rotate, fontsiz\n",
    "\n",
    "windata=df['winner'].value_counts()\n",
    "x=windata.index\n",
    "x1=range(len(x))\n",
    "y=windata.data\n",
    "\n",
    "plt.figure(figsize=(30,10))\n",
    "plt.bar(x1,y)\n",
    "plt.xticks(x1,x,rotation=45,fontsize=20)\n",
    "plt.show()\n",
    "\n"
   ]
  },
  {
   "cell_type": "code",
   "execution_count": 40,
   "metadata": {},
   "outputs": [
    {
     "data": {
      "image/png": "[encoded data removed]",
      "text/plain": [
       "<matplotlib.figure.Figure at 0x1150206d8>"
      ]
     },
     "metadata": {},
     "output_type": "display_data"
    }
   ],
   "source": [
    "#histogram on roads\n",
    "#historgram on normal distributed data \n",
    "# data mu plus sigma*random 10,000 points, ec= black option\n",
    "\n",
    "plt.figure(figsize=(10,10))\n",
    "mu, sigma = 0, 1\n",
    "x = mu + sigma*np.random.randn(10000)\n",
    "plt.hist(x,50,alpha=0.75,histtype='bar',ec='black')\n",
    "plt.show()"
   ]
  },
  {
   "cell_type": "code",
   "execution_count": null,
   "metadata": {
    "collapsed": true
   },
   "outputs": [],
   "source": []
  }
 ],
 "metadata": {
  "kernelspec": {
   "display_name": "Python 2",
   "language": "python",
   "name": "python2"
  },
  "language_info": {
   "codemirror_mode": {
    "name": "ipython",
    "version": 2
   },
   "file_extension": ".py",
   "mimetype": "text/x-python",
   "name": "python",
   "nbconvert_exporter": "python",
   "pygments_lexer": "ipython2",
   "version": "2.7.13"
  }
 },
 "nbformat": 4,
 "nbformat_minor": 2
}
