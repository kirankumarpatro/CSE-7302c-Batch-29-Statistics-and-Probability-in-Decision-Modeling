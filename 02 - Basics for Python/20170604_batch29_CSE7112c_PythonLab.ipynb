{
 "cells": [
  {
   "cell_type": "markdown",
   "metadata": {},
   "source": [
    "# Introduction to Python\n",
    "## Agenda:\n",
    "\n",
    "* **Background and Introduction**  (40 mins)\n",
    "    * History, installation, Jupyter basic features\n",
    "* ** Data Types ** (1 hour)\n",
    "    * Data Types, variable assignmemt, list indexing/slicing, Tuples, Dictionaries\n",
    "* **Installing Packages** (20 mins)\n",
    "    * import\n",
    "    * pip install\n",
    "    * manually install\n",
    "    \n",
    "* **Fuctions, loops, list comprehension,lambda, map, filter** (1 hour)\n",
    "\n",
    "* ** Numpy ** (1.5 hours)\n",
    "* ** DataFrames ** (1.5 hours)\n",
    "* ** Visualization ** (1 hour)\n",
    "* ** Practice & Excercise ** (1 hour)\n",
    "\n",
    "## Instructions\n",
    "\n",
    "* Try to finish your code blocks as much as you can from the instructions but you are falling behind, move on to next section\n",
    "* Do not call mentors to debug your code during the session. We will spend time on that in last hour\n"
   ]
  },
  {
   "cell_type": "markdown",
   "metadata": {},
   "source": [
    "## =========================================================================\n",
    "## History\n",
    "* Developed as hobby project by dutch programmer **Guido Von Russom** in late 80s \n",
    "* He is regarded as '**B**enevolent **D**ictator **F**or **L**ife' for Python Development \n",
    "\n",
    "## Installing Python\n",
    "1. Python Engine\n",
    "2. IDE (Spyder, Pycharm, etc)\n",
    "3. Package Manager and packages\n",
    "4. IPython (Interactive Python)\n",
    "5. .....\n",
    "\n",
    "Installing ***Anaconda*** takes care of everything and typically this is the only tool you need to install\n",
    "\n",
    "## Python Versions\n",
    "\n",
    "* Python 2.x and Python 3.x\n",
    "* Minor syntax differences between both and hence not 100 % compatible\n",
    "* This class will be on Python 3.x\n",
    "\n",
    "## Python vs iPython \n",
    "\n",
    "* Script vs Notebook\n",
    "* Most commonly used Notebook interface is Jupyter and is extremely popular (much more than R Notebooks)\n",
    "* Unlike R, where both the R script and R noteboks are supported within RStudio, Jupyer notebook interface is very different than that of Spyder\n",
    "* Spyder does support iPython console in its IDE but it is not very popular\n",
    "\n"
   ]
  },
  {
   "cell_type": "markdown",
   "metadata": {},
   "source": [
    "## Jupyter features\n",
    "* Launching a notebook, closing it and shutting it down\n",
    "* Inserting, deleting a cell\n",
    "* Markdown vs code cell\n",
    "* Running one cell, all cell, all above and all below\n",
    "* Kernel busy indicator\n",
    "* Save as/export\n",
    "* Unlike R, bulk commenting is not supported (frustrating feature!)"
   ]
  },
  {
   "cell_type": "markdown",
   "metadata": {},
   "source": [
    "# Assignment and Printing\n",
    "\n",
    "* If print command is not explicitly provided, only last line is printed\n",
    "* Note that R Notebook 'chunks' do not behave this way and all output is printed irrespective of explicit print\n",
    "* Variable naming: Unlike R, using '.' in variable names is a bad idea. '.' represents attributes of an object"
   ]
  },
  {
   "cell_type": "code",
   "execution_count": 45,
   "metadata": {
    "collapsed": false
   },
   "outputs": [
    {
     "data": {
      "text/plain": [
       "5"
      ]
     },
     "execution_count": 45,
     "metadata": {},
     "output_type": "execute_result"
    }
   ],
   "source": [
    "# assign variables to x, y, z and print with and without print command\n",
    "x=5\n",
    "y=6\n",
    "\n",
    "x"
   ]
  },
  {
   "cell_type": "markdown",
   "metadata": {},
   "source": [
    " ## <font color='red'> Student Activity Question 1 [1 min] </font>\n",
    " \n",
    "##### Define a as  'alpha' and b as 'bet'. Now add a and b with + operator. Print explicilty your result"
   ]
  },
  {
   "cell_type": "code",
   "execution_count": 46,
   "metadata": {
    "collapsed": false
   },
   "outputs": [
    {
     "data": {
      "text/plain": [
       "'alphabeta'"
      ]
     },
     "execution_count": 46,
     "metadata": {},
     "output_type": "execute_result"
    }
   ],
   "source": [
    "a='alpha'\n",
    "b='beta'\n",
    "a+b"
   ]
  },
  {
   "cell_type": "markdown",
   "metadata": {},
   "source": [
    "## Data Types in Python\n",
    "\n",
    "### In basic Python\n",
    "1. Numbers\n",
    "1. Booleans\n",
    "1. Strings\n",
    "1. lists \n",
    "2. tuples \n",
    "3. dictionaries\n",
    "5. frozensets\n",
    "\n",
    "### In higher level packages\n",
    "6. **DataFrame** from Pandas\n",
    "2. **Array** from numpy "
   ]
  },
  {
   "cell_type": "markdown",
   "metadata": {},
   "source": [
    "## Numbers, Boolean and Strings"
   ]
  },
  {
   "cell_type": "code",
   "execution_count": 47,
   "metadata": {
    "collapsed": false
   },
   "outputs": [
    {
     "data": {
      "text/plain": [
       "bool"
      ]
     },
     "execution_count": 47,
     "metadata": {},
     "output_type": "execute_result"
    }
   ],
   "source": [
    "x=True\n",
    "type(x)\n"
   ]
  },
  {
   "cell_type": "markdown",
   "metadata": {},
   "source": [
    "## Lists\n",
    "\n",
    "* Can be created using '[' brackets or *list* function\n",
    "* Mathematical operators like + or * do not add or multiply"
   ]
  },
  {
   "cell_type": "code",
   "execution_count": 48,
   "metadata": {
    "collapsed": false
   },
   "outputs": [
    {
     "data": {
      "text/plain": [
       "[1, 2, 3, 4, 5, 6]"
      ]
     },
     "execution_count": 48,
     "metadata": {},
     "output_type": "execute_result"
    }
   ],
   "source": [
    "# List of strings (material)\n",
    "# List of numbers (Youngs modulus)\n",
    "# List of mix (material and youngs modulus)\n",
    "# List of list (each material with its Y in individual list)\n",
    "# Adding a list of numbers\n",
    "# multiplying a list of numbers\n",
    "L1=[1,2,3]\n",
    "L2=[4,5,6]\n",
    "L1+L2\n",
    "\n",
    "\n"
   ]
  },
  {
   "cell_type": "markdown",
   "metadata": {},
   "source": [
    " ## <font color='red'> Student Activity Question 2 [2 mins]</font>\n",
    " \n",
    "* Create a list L1 of first 5 even numbers in number series\n",
    "* Now Create a list L2 of first 5 odd numbers in number series\n",
    "    1. add and print expliclty sum of L1 and L2 (use + operator). \n",
    "    2. Now multiply L1 with 2 and print it explicitly \n",
    "    \n",
    "Are the results as you expected? For mathematical operations use numpy arrays which will be covered later in the notebook"
   ]
  },
  {
   "cell_type": "code",
   "execution_count": 49,
   "metadata": {
    "collapsed": false
   },
   "outputs": [
    {
     "name": "stdout",
     "output_type": "stream",
     "text": [
      "[0, 2, 4, 6, 8, 1, 3, 5, 7, 9]\n",
      "[0, 2, 4, 6, 8, 0, 2, 4, 6, 8]\n"
     ]
    }
   ],
   "source": [
    "L1=[0,2,4,6,8]\n",
    "L2=[1,3,5,7,9]\n",
    "print(L1+L2)\n",
    "print(L1*2)\n"
   ]
  },
  {
   "cell_type": "markdown",
   "metadata": {},
   "source": [
    "## Indexing and Slicing\n",
    "\n",
    "* Simple\n",
    "* Negative\n",
    "* Slicing [Start inclusive: end exclusive]\n",
    "* Alternate Slicing\n",
    "* Empty/Default index [0 or last]"
   ]
  },
  {
   "cell_type": "code",
   "execution_count": 50,
   "metadata": {
    "collapsed": false
   },
   "outputs": [
    {
     "name": "stdout",
     "output_type": "stream",
     "text": [
      "[10, 12, 14, 16, 18, 20, 22, 24, 26, 28, 30, 32, 34]\n",
      "[10, 12, 14, 16, 18, 20, 22, 24, 26, 28, 30, 32, 38, 40]\n"
     ]
    }
   ],
   "source": [
    "# List of range of first 20 numbers\n",
    "#take help on range\n",
    "# List of range of first 2 numbers alternately and assign it to L. Print explicitly\n",
    "L1=list(range(10,36,2))\n",
    "print(L1)\n",
    "L1[0:6]\n",
    "L1[-1]\n",
    "L1[-6:-1]\n",
    "del(L1[-1])\n",
    "L1=L1+[38]\n",
    "\n",
    "L1=L1+[40]\n",
    "print(L1)\n",
    "\n",
    "\n",
    "# index 1 and -1 (note the difference in R)\n",
    "# 1 to 4\n",
    "# 4 to last\n",
    "# first to 5\n",
    "# -3 to last\n",
    "# 1 to 5 in steps of 2\n",
    "# -6 to last in steps of 2 (skip middle arguments with double colon)\n",
    "# Add element to a list. Requires assigment to change the list\n",
    "# Delete element using del function (del of list of index). Does not require assignment to change the list\n",
    "# access index using list.index function\n"
   ]
  },
  {
   "cell_type": "code",
   "execution_count": 51,
   "metadata": {
    "collapsed": false
   },
   "outputs": [
    {
     "name": "stdout",
     "output_type": "stream",
     "text": [
      "[10, 12, 14, 16, 18, 20, 22, 24, 26, 28, 30, 32, 38, 40]\n",
      "[10, 12, 16, 18, 20, 22, 24, 26, 28, 30, 32, 38, 40]\n",
      "[10, 12, 14, 16, 18, 20, 22, 24, 26, 28, 30, 32, 38, 40]\n"
     ]
    }
   ],
   "source": [
    "# caveats of copy vs just equal to \n",
    "# define a, equate to b, drop 2nd elemt in b using del, compare a and b\n",
    "# use b.copy \n",
    "L1\n",
    "L2=L1[:]\n",
    "\n",
    "print(L2)\n",
    "del(L2[2])\n",
    "print(L2)\n",
    "print(L1)"
   ]
  },
  {
   "cell_type": "markdown",
   "metadata": {},
   "source": [
    "## <font color='red'> Student Activity Question 3 [5 mins]</font>\n",
    "\n",
    "1. Create a list of angles from 0 to 360 in steps of 30. Call this list 'angle'. Use range function. (Do not worry about specifying units)\n",
    "2. Is 360 last element in the list? If not, edit the argument in the range function to ensure 360 is the last element in the list.\n",
    "3. Find the indices of first and last elemet in second quadrant (i.e. 90 and 270 degrees). use index function. store these indices on i1 and i2 variables respectively\n",
    "4. i1 and i2 are indices counting from front. Find the reverse index of 90 and 270. (Hint: use `len` function to calculate length of the list and think how you can use length of the list to calculate reverse indices of 90 and 270. store these indices in i1_rev and i2_rev\n",
    "4. Now make a subset list from 'angle' of all the angles in second quadrant in reverse order (starting from 270 and ending at 90). Hint: Increment should be -1 here.  \n",
    "5. If your list ends at 120, think about what you should add or subtract to/from i1_rev in your subset operation. (remember list excludes the value on last index on right. So you need to increment/decrement index accordingly)"
   ]
  },
  {
   "cell_type": "code",
   "execution_count": 52,
   "metadata": {
    "collapsed": false
   },
   "outputs": [
    {
     "name": "stdout",
     "output_type": "stream",
     "text": [
      "[0, 30, 60, 90, 120, 150, 180, 210, 240, 270, 300, 330, 360]\n",
      "3 9\n",
      "13\n",
      "10 4\n"
     ]
    },
    {
     "data": {
      "text/plain": [
       "[270, 240, 210, 180, 150, 120, 90]"
      ]
     },
     "execution_count": 52,
     "metadata": {},
     "output_type": "execute_result"
    }
   ],
   "source": [
    "angle=list(range(0,361,30))\n",
    "print(angle)\n",
    "i1=angle.index(90)\n",
    "i2=angle.index(270)\n",
    "print(i1,i2)\n",
    "\n",
    "length = len(angle)\n",
    "print(length)\n",
    "\n",
    "i1_rev = length - i1\n",
    "i2_rev = length - i2\n",
    "print(i1_rev,i2_rev)\n",
    "\n",
    "anglesub = angle[-i2_rev : -i1_rev-1:-1]\n",
    "anglesub\n",
    "\n"
   ]
  },
  {
   "cell_type": "markdown",
   "metadata": {},
   "source": [
    "### Copying Lists"
   ]
  },
  {
   "cell_type": "code",
   "execution_count": 53,
   "metadata": {
    "collapsed": false
   },
   "outputs": [],
   "source": [
    "# create a new list L1 and make a copy L2 = L1\n",
    "# delete third element in L2\n",
    "# check L1\n",
    "# Now do L1.copy and recheck above steps\n",
    "# repeat with colon operation\n",
    "\n",
    "\n"
   ]
  },
  {
   "cell_type": "markdown",
   "metadata": {},
   "source": [
    "## Installing Packages\n",
    "* Most packages are pre-installed with anaconda\n",
    "* Need to import them (import pkg as short name)\n",
    "* sometimes need to use pip install from command line (any folder). Try pip install seaborn\n",
    "* Even in rare times pip install may not work (when corporate firewall blocks pip or no internet). Need to manually download package\n",
    "    * Download package from web (mostly on GitHub) or from storage device. Your folder should have setup.py file in it. \n",
    "    * Open command line/terminal on that folder\n",
    "    * run this command (without quotes) 'python setup.py install'"
   ]
  },
  {
   "cell_type": "code",
   "execution_count": 54,
   "metadata": {
    "collapsed": true
   },
   "outputs": [],
   "source": [
    "import pandas as pd\n",
    "import seaborn as sns"
   ]
  },
  {
   "cell_type": "markdown",
   "metadata": {},
   "source": [
    "## Tuples \n",
    "* Tuples are exactly like lists but immuatable. Elements can be added but not deleted\n",
    "* Some other differences which you will see as we move along"
   ]
  },
  {
   "cell_type": "code",
   "execution_count": 55,
   "metadata": {
    "collapsed": false
   },
   "outputs": [
    {
     "name": "stdout",
     "output_type": "stream",
     "text": [
      "[1, 2, 3]\n"
     ]
    },
    {
     "ename": "NameError",
     "evalue": "name 'b' is not defined",
     "output_type": "error",
     "traceback": [
      "\u001b[0;31m---------------------------------------------------------------------------\u001b[0m",
      "\u001b[0;31mNameError\u001b[0m                                 Traceback (most recent call last)",
      "\u001b[0;32m<ipython-input-55-d6137d3fa433>\u001b[0m in \u001b[0;36m<module>\u001b[0;34m()\u001b[0m\n\u001b[1;32m      3\u001b[0m \u001b[1;32mdel\u001b[0m\u001b[1;33m(\u001b[0m\u001b[0mb\u001b[0m\u001b[1;33m)\u001b[0m\u001b[1;33m\u001b[0m\u001b[0m\n\u001b[1;32m      4\u001b[0m \u001b[0mprint\u001b[0m\u001b[1;33m(\u001b[0m\u001b[0ma\u001b[0m\u001b[1;33m)\u001b[0m\u001b[1;33m\u001b[0m\u001b[0m\n\u001b[0;32m----> 5\u001b[0;31m \u001b[0mprint\u001b[0m\u001b[1;33m(\u001b[0m\u001b[0mb\u001b[0m\u001b[1;33m)\u001b[0m\u001b[1;33m\u001b[0m\u001b[0m\n\u001b[0m\u001b[1;32m      6\u001b[0m \u001b[1;33m\u001b[0m\u001b[0m\n\u001b[1;32m      7\u001b[0m \u001b[1;33m\u001b[0m\u001b[0m\n",
      "\u001b[0;31mNameError\u001b[0m: name 'b' is not defined"
     ]
    }
   ],
   "source": [
    "a=[1,2,3]\n",
    "b=(4,5,6)\n",
    "del(b)\n",
    "print(a)\n",
    "print(b)\n",
    "\n",
    "\n",
    "#creat3 a tuple of 3 elements\n",
    "# add a new number to it (new number should also be a tuple with comma at end)\n",
    "# try to del thrid element in tuple\n",
    "\n",
    "\n"
   ]
  },
  {
   "cell_type": "markdown",
   "metadata": {},
   "source": [
    "## Dictionaries\n",
    "\n",
    "* Keys and Values"
   ]
  },
  {
   "cell_type": "code",
   "execution_count": 3,
   "metadata": {
    "collapsed": false
   },
   "outputs": [
    {
     "name": "stdout",
     "output_type": "stream",
     "text": [
      "{'b': 2, 'c': 3, 'a': 1}\n",
      "{'prime': [2, 3, 5, 7], 'odd': [1, 3, 5], 'even': [2, 4, 6, 8, 'test']}\n"
     ]
    },
    {
     "data": {
      "text/plain": [
       "[2, 3, 5, 7]"
      ]
     },
     "execution_count": 3,
     "metadata": {},
     "output_type": "execute_result"
    }
   ],
   "source": [
    "# create d dictionary with metals and their Y. Then add possions ratio as well\n",
    "# add another metal in the dictionary and value is just a number and not a list\n",
    "d1={'a':1, 'b':2, 'c':3}\n",
    "print(d1)\n",
    "d2={'even':[2,4,6,8,'test'],'odd':[1,3,5],'prime':[2,3,5,7]}\n",
    "print(d2)\n",
    "d2['prime']"
   ]
  },
  {
   "cell_type": "code",
   "execution_count": null,
   "metadata": {
    "collapsed": true
   },
   "outputs": [],
   "source": []
  },
  {
   "cell_type": "markdown",
   "metadata": {},
   "source": [
    "## <font color='red'> Student Activity Question 4 [3 mins]</font>\n",
    "\n",
    "1. Convert the table below in dictionary named 'states'. [source](https://en.wikipedia.org/wiki/States_and_union_territories_of_India)\n",
    "    * Use the state name as key\n",
    "    * Include only three elements in value list [population, capital, Is capital same as largest city (True/False)]\n",
    "    * example {state1: [25,000,'cap1',True]}\n",
    "2. Extract information of 'Bihar' from states\n",
    "3. Google search and find information about Telangana and add to this dictionary\n",
    "!['example'](states.png)"
   ]
  },
  {
   "cell_type": "code",
   "execution_count": 4,
   "metadata": {
    "collapsed": false
   },
   "outputs": [
    {
     "name": "stdout",
     "output_type": "stream",
     "text": [
      "{'Bihar': [104099452, 'Patna', True], 'Arunachal Pradesh': [1383727, 'Itanagar', True], 'Telangana': (5612651, 'Hyderabad', True), 'Assam': [31205576, 'Dispur', False], 'Andhra Pradesh': [49506799, 'Hyderabad', False]}\n"
     ]
    }
   ],
   "source": [
    "states={'Andhra Pradesh':[49506799,'Hyderabad',False],'Arunachal Pradesh':[1383727,'Itanagar',True],'Assam':[31205576,'Dispur',False],'Bihar':[104099452,'Patna',True]}\n",
    "states['Bihar']\n",
    "states['Telangana']=5612651,'Hyderabad',True\n",
    "print(states)"
   ]
  },
  {
   "cell_type": "markdown",
   "metadata": {},
   "source": [
    "## Functions and lambda"
   ]
  },
  {
   "cell_type": "code",
   "execution_count": 68,
   "metadata": {
    "collapsed": false
   },
   "outputs": [
    {
     "name": "stdout",
     "output_type": "stream",
     "text": [
      "3.142857142857143\n"
     ]
    },
    {
     "data": {
      "text/plain": [
       "3.142857142857143"
      ]
     },
     "execution_count": 68,
     "metadata": {},
     "output_type": "execute_result"
    }
   ],
   "source": [
    "# define function called deg_rad with input angle and convert from degreess to radians. \n",
    "# return rad_angle\n",
    "# calcluate rad angle of 360\n",
    "# Note that return argument is optional in R and it retunrs the last calculated value by default\n",
    "# Show that these functions cannot work on a list (althouh can work on numpy array)\n",
    "\n",
    "def deg_to_rad(deg_angle):\n",
    "    rad_angle=deg_angle/360*22/7\n",
    "    return(rad_angle)\n",
    "\n",
    "print(deg_to_rad(360))\n",
    "    \n",
    "\n",
    "# define lambda function with same feature. pass another variable called rotate to show multiple parameters can be passed\n",
    "# test function with angle and rotate angle (converted to radian from above function)\n",
    "deg_to_rad_L=lambda deg_angle:deg_angle/180*22/7\n",
    "\n",
    "deg_to_rad_L(180)"
   ]
  },
  {
   "cell_type": "markdown",
   "metadata": {},
   "source": [
    "## Map and Filter\n",
    "* Almost all applications of Map and filter can be replaced by List Comprehensions (to be covered next)\n",
    "* Guido himself strongly dislikes maps and filter recommends use of list comprehension \n",
    "* Map and filter sometimes can be faster in operations"
   ]
  },
  {
   "cell_type": "code",
   "execution_count": 78,
   "metadata": {
    "collapsed": false
   },
   "outputs": [
    {
     "data": {
      "text/plain": [
       "[90, 120, 150, 180, 210, 240, 270]"
      ]
     },
     "execution_count": 78,
     "metadata": {},
     "output_type": "execute_result"
    }
   ],
   "source": [
    "\n",
    "# Map deg_rad function from above to list of 30,60,90\n",
    "# use list to output in the right format\n",
    "# show map with lambda by copying entire inline lambda from above. Make sure rotate list 1,1,1 is also supplied\n",
    "angles=range(0,361,30)\n",
    "#angles=[0,30,60]\n",
    "rot=[0.1,0.2,0.3]\n",
    "list(map(lambda deg_angle,rotate:deg_angle/180*22/7+rotate,angles,rot))\n",
    "9\n",
    "# create angles vector range 0 to 360 in steps of 30\n",
    "# filter angles greater than 90\n",
    "# filter angles greater than 90 and less than 270 (each condtion in parenthisis)\n",
    "\n",
    "q2_angles=lambda ang:(ang>=90) & (ang<=270)\n",
    "list(filter(lambda ang:(ang>=90) & (ang<=270),angles))"
   ]
  },
  {
   "cell_type": "markdown",
   "metadata": {},
   "source": [
    "## For Loops "
   ]
  },
  {
   "cell_type": "code",
   "execution_count": 86,
   "metadata": {
    "collapsed": false
   },
   "outputs": [
    {
     "name": "stdout",
     "output_type": "stream",
     "text": [
      "[0.0, 0.5238095238095238, 1.0476190476190477, 1.5714285714285714, 2.0952380952380953, 2.6190476190476195, 3.142857142857143, 3.666666666666667, 4.190476190476191, 4.714285714285714, 5.238095238095239, 5.761904761904761, 6.285714285714286]\n"
     ]
    }
   ],
   "source": [
    "# initiate rad angles\n",
    "# iterate over three angles\n",
    "# convert to radians\n",
    "# add converted value to rad_angles with.append method\n",
    "\n",
    "#angles=[0,30,60]\n",
    "angles=range(0,361,30)\n",
    "\n",
    "rad_angles=[]\n",
    "for ang in angles:\n",
    "    ang1=ang/180*22/7\n",
    "    rad_angles.append(ang1)\n",
    "    \n",
    "print(rad_angles)\n",
    "\n",
    "            \n",
    "            \n",
    "            \n",
    "\n",
    "    \n",
    "#print(rad_angles)\n",
    "\n",
    "\n",
    "# initiate q2 angles\n",
    "# iterate over about 10 angles from 30 to 360\n",
    "# check if they belong to q2. (two conditions with &. each condition in parenthisis)\n",
    "# add converted value to q2_angles with.append method\n",
    "\n",
    "\n",
    "\n",
    "\n",
    "#print(q2_angles)    "
   ]
  },
  {
   "cell_type": "markdown",
   "metadata": {},
   "source": [
    "## List comprehensions\n",
    " * Extremely powerful, Elegant and in single line\n",
    " * Output is always a list\n",
    " * If you are using for-loops, think list comprehension first. (some cases may still need for loops)\n",
    " * can be little confusing to read first\n",
    " * Structure with if and with if-else is slightly different\n",
    " * nested for loops can really get confusing\n"
   ]
  },
  {
   "cell_type": "code",
   "execution_count": 90,
   "metadata": {
    "collapsed": false
   },
   "outputs": [
    {
     "data": {
      "text/plain": [
       "[0, 0, 0, 90, 120, 150, 180, 210, 240, 270, 0, 0, 0]"
      ]
     },
     "execution_count": 90,
     "metadata": {},
     "output_type": "execute_result"
    }
   ],
   "source": [
    "\n",
    "# List 1 mapping angles to radians\n",
    "# List 2 filter with if condition. if comes at the end\n",
    "# filter with if else. for comes at the end. zeros for else\n",
    "\n",
    "angles=range(0,361,30)\n",
    "[ang/180*22/7 for ang in angles]\n",
    "\n",
    "#[ang for ang in angles if (ang>=90)&(ang<=270)]\n",
    "[ang if (ang>=90) & (ang<=270) else 0 for ang in angles]"
   ]
  },
  {
   "cell_type": "code",
   "execution_count": null,
   "metadata": {
    "collapsed": true
   },
   "outputs": [],
   "source": []
  },
  {
   "cell_type": "markdown",
   "metadata": {},
   "source": [
    "##### <font color='red'> Student Activity Question 5 [10 mins]</font>\n",
    "\n",
    "* Below formula represents Body Mass Index of a person\n",
    "\n",
    "$$ BMI= \\frac{\\text{weight in kg}}{(\\text{Height in m})^2}$$\n",
    "\n",
    "* Write a function to calculate BMI of a person. Name this function bmifunc. \n",
    "* The function should accept the height in inches. (So you need to convert height into m inside the function)\n",
    "* Using check what would be bmi of a person weighing 80 kg and 6 foot tool (make sure you use right units in your function)\n",
    "* Now use following lists \n",
    "    * heights=[60,74,65,66,69] \n",
    "    * weights=[50,120,80,75,95]\n",
    "* map bmifunc over heights and weight and store in variable bmi_list. \n",
    "    * Hint: Your map function will have 3 inputs. First is the function itself and next two are the lists. \n",
    "    * Make sure you apply list on map function to get list as output\n",
    "* Explicitly print bmi_list\n",
    "* Now use list comprehsion (not filter) to obtain normal BMI values (between 25 and 30) within variable bmi_list   "
   ]
  },
  {
   "cell_type": "code",
   "execution_count": 31,
   "metadata": {
    "collapsed": false
   },
   "outputs": [
    {
     "name": "stdout",
     "output_type": "stream",
     "text": [
      "[21.527820833419444, 33.96646676419722, 29.34917112437775, 26.68738119845386, 30.928438248390886]\n"
     ]
    },
    {
     "data": {
      "text/plain": [
       "[21.527820833419444,\n",
       " 33.96646676419722,\n",
       " 29.34917112437775,\n",
       " 26.68738119845386,\n",
       " 30.928438248390886]"
      ]
     },
     "execution_count": 31,
     "metadata": {},
     "output_type": "execute_result"
    }
   ],
   "source": [
    "def bmifunc(weight,height):\n",
    "    h=(height*0.0254)\n",
    "    bmi=(weight/(h*h))\n",
    "    return bmi\n",
    "\n",
    "bmifunc(80,72)\n",
    "\n",
    "weights=[50,120,80,75,95]\n",
    "heights=[60,74,65,66,69]\n",
    "bmi_list=list(map(bmifunc,weights,heights))\n",
    "print(bmi_list)\n",
    "\n",
    "[bmi for bmi in bmi_list if (bmi>=25 & (bmi<=30))]\n"
   ]
  },
  {
   "cell_type": "markdown",
   "metadata": {},
   "source": [
    "## Numpy\n",
    "* Core library for scientific computing in Python. \n",
    "* Provides a high performance multidimensional array objects and tools\n",
    "* <img src=\"numpyarray.png\" />"
   ]
  },
  {
   "cell_type": "code",
   "execution_count": 5,
   "metadata": {
    "collapsed": true
   },
   "outputs": [],
   "source": [
    "import numpy as np"
   ]
  },
  {
   "cell_type": "code",
   "execution_count": 7,
   "metadata": {
    "collapsed": false
   },
   "outputs": [
    {
     "name": "stdout",
     "output_type": "stream",
     "text": [
      "[1 2 3]\n",
      "[[1 2 3]\n",
      " [3 4 5]]\n",
      "[[ 0.  0.  0.]\n",
      " [ 0.  0.  0.]]\n",
      "[[ 1.  0.  0.]\n",
      " [ 0.  1.  0.]\n",
      " [ 0.  0.  1.]]\n"
     ]
    }
   ],
   "source": [
    "# create 1-D array 1,2,3\n",
    "# create 2-D array with second row and data type float\n",
    "# Initialize array of size 3,4 with zeros\n",
    "#create identit matrix of 3X3\n",
    "\n",
    "a=np.array([1,2,3])\n",
    "print(a)\n",
    "b=np.array(([1,2,3],[3,4,5]))\n",
    "print(b)\n",
    "c=np.zeros((2,3))\n",
    "print(c)\n",
    "d=np.eye(3)\n",
    "print (d)\n"
   ]
  },
  {
   "cell_type": "code",
   "execution_count": 13,
   "metadata": {
    "collapsed": false
   },
   "outputs": [
    {
     "name": "stdout",
     "output_type": "stream",
     "text": [
      "[  1.    2.5   4.    5.5   7.    8.5  10.   11.5  13.   14.5  16.   17.5\n",
      "  19. ]\n",
      "[ 0.    0.25  0.5   0.75  1.    1.25  1.5   1.75  2.  ]\n",
      "[[ 0.82488913  0.91891564  0.75731898]\n",
      " [ 0.98711243  0.1290967   0.51543392]]\n"
     ]
    }
   ],
   "source": [
    "#arange example\n",
    "#linspace exaxmple\n",
    "#use explicit print in each\n",
    "a=np.arange(1,20,1.5)\n",
    "print(a)\n",
    "b=np.linspace(0,2,9)\n",
    "print(b)\n",
    "print(np.random.random((2,3)))\n"
   ]
  },
  {
   "cell_type": "markdown",
   "metadata": {},
   "source": [
    "### Numpy Data Types"
   ]
  },
  {
   "cell_type": "code",
   "execution_count": 15,
   "metadata": {
    "collapsed": false
   },
   "outputs": [
    {
     "name": "stdout",
     "output_type": "stream",
     "text": [
      "6\n",
      "6.0\n",
      "True\n",
      "False\n",
      "b'2.78'\n"
     ]
    }
   ],
   "source": [
    "#int64 and float32 on decimal number\n",
    "# complex number with real and imag part\n",
    "# boolean on zero and eight\n",
    "# string on some decimal number\n",
    "#use explicit printing for each\n",
    "print(np.int64(6.78))\n",
    "print(np.float32(6))\n",
    "print(np.bool(8))\n",
    "print(np.bool(0))\n",
    "print(np.string_(2.78))"
   ]
  },
  {
   "cell_type": "markdown",
   "metadata": {},
   "source": [
    "### Basic inspecting operations"
   ]
  },
  {
   "cell_type": "code",
   "execution_count": 18,
   "metadata": {
    "collapsed": false
   },
   "outputs": [
    {
     "name": "stdout",
     "output_type": "stream",
     "text": [
      "[[ 1  2  3  4]\n",
      " [34 67 89  5]\n",
      " [ 2  3  1  6]]\n",
      "(3, 4)\n",
      "3\n",
      "2\n",
      "12\n",
      "int32\n",
      "float64\n",
      "[[  1.   2.   3.   4.]\n",
      " [ 34.  67.  89.   5.]\n",
      " [  2.   3.   1.   6.]]\n"
     ]
    }
   ],
   "source": [
    "# shape, len, ndim, size,dtype\n",
    "# use astype to convert to int and save in same variable\n",
    "# check new dtype of b \n",
    "c=np.array(([1,2,3,4],[34,67,89,5],[2,3,1,6]))\n",
    "print(c)\n",
    "\n",
    "print(c.shape)\n",
    "print(len(c))\n",
    "print(c.ndim)\n",
    "print(c.size)\n",
    "print(c.dtype)\n",
    "c=c.astype(np.float)\n",
    "print(c.dtype)\n",
    "print(c)"
   ]
  },
  {
   "cell_type": "markdown",
   "metadata": {},
   "source": [
    "### Array operation\n"
   ]
  },
  {
   "cell_type": "code",
   "execution_count": 27,
   "metadata": {
    "collapsed": false
   },
   "outputs": [
    {
     "name": "stdout",
     "output_type": "stream",
     "text": [
      "[[2 4 6]\n",
      " [5 7 9]]\n",
      "[[ 0  0  0]\n",
      " [-3 -3 -3]]\n",
      "[[ 1  4  9]\n",
      " [ 4 10 18]]\n",
      "[14 32]\n",
      "[14 32]\n",
      "(2, 3)\n"
     ]
    }
   ],
   "source": [
    "# add, subtract, multiply, shape, dot, matmul\n",
    "a=np.array(([1,2,3]))\n",
    "b=np.array(([1,2,3],[4,5,6]))\n",
    "\n",
    "print(a+b)\n",
    "\n",
    "print(a-b)\n",
    "\n",
    "print(a*b)\n",
    "\n",
    "print(np.matmul(a,b.T))\n",
    "\n",
    "print(np.dot(a,b.T))\n",
    "\n",
    "print(b.shape)"
   ]
  },
  {
   "cell_type": "markdown",
   "metadata": {},
   "source": [
    "Some advanced array operations"
   ]
  },
  {
   "cell_type": "code",
   "execution_count": 32,
   "metadata": {
    "collapsed": false
   },
   "outputs": [
    {
     "name": "stdout",
     "output_type": "stream",
     "text": [
      "[[ 1.  2.]\n",
      " [ 3.  4.]]\n",
      "[[  2.71828183   7.3890561 ]\n",
      " [ 20.08553692  54.59815003]]\n",
      "[[ 1.          1.41421356]\n",
      " [ 1.73205081  2.        ]]\n",
      "[[False False]\n",
      " [False False]]\n"
     ]
    }
   ],
   "source": [
    "x=np.array([(1,2),(3,4)],dtype=float)\n",
    "y=np.array([(3,4),(9,5)],dtype=float)\n",
    "\n",
    "print(x)\n",
    "# exp, sqrt, sin log sum min max\n",
    "\n",
    "print(np.exp(x))\n",
    "print(np.sqrt(x))\n",
    "\n",
    "print(x==y)\n",
    "\n"
   ]
  },
  {
   "cell_type": "markdown",
   "metadata": {},
   "source": [
    "### Logical operations"
   ]
  },
  {
   "cell_type": "code",
   "execution_count": 33,
   "metadata": {
    "collapsed": false
   },
   "outputs": [
    {
     "name": "stdout",
     "output_type": "stream",
     "text": [
      "[9 5 8 7]\n"
     ]
    }
   ],
   "source": [
    "# array a 1 rows and array b 2 rwos\n",
    "# check if a is equal to b\n",
    "# check if b > 4\n",
    "\n",
    "a=np.array([1,7,9])\n",
    "b=np.array([[1,2,9],[5,8,7]])\n",
    "a==b\n",
    "print(b[b>4])\n"
   ]
  },
  {
   "cell_type": "markdown",
   "metadata": {},
   "source": [
    "### Subset and slicing"
   ]
  },
  {
   "cell_type": "code",
   "execution_count": 36,
   "metadata": {
    "collapsed": false,
    "scrolled": true
   },
   "outputs": [
    {
     "name": "stdout",
     "output_type": "stream",
     "text": [
      "[[4 5 6]\n",
      " [4 8 9]\n",
      " [5 6 7]]\n",
      "8\n",
      "[5 8 6]\n",
      "[4 8 9]\n",
      "[[4 5]\n",
      " [4 8]]\n"
     ]
    }
   ],
   "source": [
    "# given the array c, get\n",
    "# second row and third column in 1 operation at a tim\n",
    "# top right 2 X 2 matrix\n",
    "\n",
    "c=np.array(([4,5,6],[4,8,9],[5,6,7]))\n",
    "print(c)\n",
    "\n",
    "print(c[1,1])\n",
    "print(c[:,1])\n",
    "print(c[1,:])\n",
    "print(c[0:2,0:2])\n"
   ]
  },
  {
   "cell_type": "markdown",
   "metadata": {},
   "source": [
    " <font color='red'> Student Activity Question 6 [5 mins]</font>\n",
    "    * iris is a popular dataset often used in R and Python for learning data manipulation and visualization\n",
    "    * It has about 150 different measuremets of iris flower. \n",
    "    * Attributes which are measured are sepal length, sepal width, petal length and petal width\n",
    "    * you can load that dataset from popular ML library scikit learn using the code below (Copy or type the code in python cell block)\n",
    "\n",
    "```python\n",
    "from sklearn import datasets\n",
    "iris = datasets.load_iris()\n",
    "X = iris.data\n",
    "\n",
    "```\n",
    "**Questions**\n",
    "1. print shape and dimension of this array X\n",
    "2. Noting that first 2 columns are sepal data and last 2 columns are petal data, slice a sub-array whith only petal data and measuremets (rows) from 100 to 140. \n",
    "3. Call this submatrix as Xsub and print it explicitly in the cell block\n",
    "4. print explcitly shape of Xsub"
   ]
  },
  {
   "cell_type": "code",
   "execution_count": 43,
   "metadata": {
    "collapsed": false
   },
   "outputs": [
    {
     "name": "stdout",
     "output_type": "stream",
     "text": [
      "(150, 4)\n",
      "2\n",
      "[[ 4.1  1.3]\n",
      " [ 6.   2.5]\n",
      " [ 5.1  1.9]\n",
      " [ 5.9  2.1]\n",
      " [ 5.6  1.8]\n",
      " [ 5.8  2.2]\n",
      " [ 6.6  2.1]\n",
      " [ 4.5  1.7]\n",
      " [ 6.3  1.8]\n",
      " [ 5.8  1.8]\n",
      " [ 6.1  2.5]\n",
      " [ 5.1  2. ]\n",
      " [ 5.3  1.9]\n",
      " [ 5.5  2.1]\n",
      " [ 5.   2. ]\n",
      " [ 5.1  2.4]\n",
      " [ 5.3  2.3]\n",
      " [ 5.5  1.8]\n",
      " [ 6.7  2.2]\n",
      " [ 6.9  2.3]\n",
      " [ 5.   1.5]\n",
      " [ 5.7  2.3]\n",
      " [ 4.9  2. ]\n",
      " [ 6.7  2. ]\n",
      " [ 4.9  1.8]\n",
      " [ 5.7  2.1]\n",
      " [ 6.   1.8]\n",
      " [ 4.8  1.8]\n",
      " [ 4.9  1.8]\n",
      " [ 5.6  2.1]\n",
      " [ 5.8  1.6]\n",
      " [ 6.1  1.9]\n",
      " [ 6.4  2. ]\n",
      " [ 5.6  2.2]\n",
      " [ 5.1  1.5]\n",
      " [ 5.6  1.4]\n",
      " [ 6.1  2.3]\n",
      " [ 5.6  2.4]\n",
      " [ 5.5  1.8]\n",
      " [ 4.8  1.8]]\n",
      "(40, 2)\n"
     ]
    }
   ],
   "source": [
    "from sklearn import datasets\n",
    "iris = datasets.load_iris()\n",
    "X = iris.data\n",
    "\n",
    "print(np.shape(X))\n",
    "print(np.ndim(X))\n",
    "\n",
    "\n",
    "Xsub=X[99:139,2:]\n",
    "\n",
    "print(Xsub)\n",
    "print(np.shape(Xsub))\n"
   ]
  },
  {
   "cell_type": "markdown",
   "metadata": {
    "collapsed": true
   },
   "source": [
    "## Pandas DataFrame\n"
   ]
  },
  {
   "cell_type": "code",
   "execution_count": 44,
   "metadata": {
    "collapsed": true
   },
   "outputs": [],
   "source": [
    "# import pandas\n",
    "import pandas as pd"
   ]
  },
  {
   "cell_type": "code",
   "execution_count": 45,
   "metadata": {
    "collapsed": false
   },
   "outputs": [
    {
     "name": "stdout",
     "output_type": "stream",
     "text": [
      "(577, 18)\n",
      "Index(['id', 'season', 'city', 'date', 'team1', 'team2', 'toss_winner',\n",
      "       'toss_decision', 'result', 'dl_applied', 'winner', 'win_by_runs',\n",
      "       'win_by_wickets', 'player_of_match', 'venue', 'umpire1', 'umpire2',\n",
      "       'umpire3'],\n",
      "      dtype='object')\n",
      "[1, 2, 3, 4, 5, 6, 7, 8, 9]\n"
     ]
    },
    {
     "data": {
      "text/html": [
       "<div>\n",
       "<table border=\"1\" class=\"dataframe\">\n",
       "  <thead>\n",
       "    <tr style=\"text-align: right;\">\n",
       "      <th></th>\n",
       "      <th>id</th>\n",
       "      <th>season</th>\n",
       "      <th>city</th>\n",
       "      <th>date</th>\n",
       "      <th>team1</th>\n",
       "      <th>team2</th>\n",
       "      <th>toss_winner</th>\n",
       "      <th>toss_decision</th>\n",
       "      <th>result</th>\n",
       "      <th>dl_applied</th>\n",
       "      <th>winner</th>\n",
       "      <th>win_by_runs</th>\n",
       "      <th>win_by_wickets</th>\n",
       "      <th>player_of_match</th>\n",
       "      <th>venue</th>\n",
       "      <th>umpire1</th>\n",
       "      <th>umpire2</th>\n",
       "      <th>umpire3</th>\n",
       "    </tr>\n",
       "  </thead>\n",
       "  <tbody>\n",
       "    <tr>\n",
       "      <th>0</th>\n",
       "      <td>1</td>\n",
       "      <td>2008</td>\n",
       "      <td>Bangalore</td>\n",
       "      <td>2008-04-18</td>\n",
       "      <td>Kolkata Knight Riders</td>\n",
       "      <td>Royal Challengers Bangalore</td>\n",
       "      <td>Royal Challengers Bangalore</td>\n",
       "      <td>field</td>\n",
       "      <td>normal</td>\n",
       "      <td>0</td>\n",
       "      <td>Kolkata Knight Riders</td>\n",
       "      <td>140</td>\n",
       "      <td>0</td>\n",
       "      <td>BB McCullum</td>\n",
       "      <td>M Chinnaswamy Stadium</td>\n",
       "      <td>Asad Rauf</td>\n",
       "      <td>RE Koertzen</td>\n",
       "      <td>NaN</td>\n",
       "    </tr>\n",
       "    <tr>\n",
       "      <th>1</th>\n",
       "      <td>2</td>\n",
       "      <td>2008</td>\n",
       "      <td>Chandigarh</td>\n",
       "      <td>2008-04-19</td>\n",
       "      <td>Chennai Super Kings</td>\n",
       "      <td>Kings XI Punjab</td>\n",
       "      <td>Chennai Super Kings</td>\n",
       "      <td>bat</td>\n",
       "      <td>normal</td>\n",
       "      <td>0</td>\n",
       "      <td>Chennai Super Kings</td>\n",
       "      <td>33</td>\n",
       "      <td>0</td>\n",
       "      <td>MEK Hussey</td>\n",
       "      <td>Punjab Cricket Association Stadium, Mohali</td>\n",
       "      <td>MR Benson</td>\n",
       "      <td>SL Shastri</td>\n",
       "      <td>NaN</td>\n",
       "    </tr>\n",
       "    <tr>\n",
       "      <th>2</th>\n",
       "      <td>3</td>\n",
       "      <td>2008</td>\n",
       "      <td>Delhi</td>\n",
       "      <td>2008-04-19</td>\n",
       "      <td>Rajasthan Royals</td>\n",
       "      <td>Delhi Daredevils</td>\n",
       "      <td>Rajasthan Royals</td>\n",
       "      <td>bat</td>\n",
       "      <td>normal</td>\n",
       "      <td>0</td>\n",
       "      <td>Delhi Daredevils</td>\n",
       "      <td>0</td>\n",
       "      <td>9</td>\n",
       "      <td>MF Maharoof</td>\n",
       "      <td>Feroz Shah Kotla</td>\n",
       "      <td>Aleem Dar</td>\n",
       "      <td>GA Pratapkumar</td>\n",
       "      <td>NaN</td>\n",
       "    </tr>\n",
       "    <tr>\n",
       "      <th>3</th>\n",
       "      <td>4</td>\n",
       "      <td>2008</td>\n",
       "      <td>Mumbai</td>\n",
       "      <td>2008-04-20</td>\n",
       "      <td>Mumbai Indians</td>\n",
       "      <td>Royal Challengers Bangalore</td>\n",
       "      <td>Mumbai Indians</td>\n",
       "      <td>bat</td>\n",
       "      <td>normal</td>\n",
       "      <td>0</td>\n",
       "      <td>Royal Challengers Bangalore</td>\n",
       "      <td>0</td>\n",
       "      <td>5</td>\n",
       "      <td>MV Boucher</td>\n",
       "      <td>Wankhede Stadium</td>\n",
       "      <td>SJ Davis</td>\n",
       "      <td>DJ Harper</td>\n",
       "      <td>NaN</td>\n",
       "    </tr>\n",
       "    <tr>\n",
       "      <th>4</th>\n",
       "      <td>5</td>\n",
       "      <td>2008</td>\n",
       "      <td>Kolkata</td>\n",
       "      <td>2008-04-20</td>\n",
       "      <td>Deccan Chargers</td>\n",
       "      <td>Kolkata Knight Riders</td>\n",
       "      <td>Deccan Chargers</td>\n",
       "      <td>bat</td>\n",
       "      <td>normal</td>\n",
       "      <td>0</td>\n",
       "      <td>Kolkata Knight Riders</td>\n",
       "      <td>0</td>\n",
       "      <td>5</td>\n",
       "      <td>DJ Hussey</td>\n",
       "      <td>Eden Gardens</td>\n",
       "      <td>BF Bowden</td>\n",
       "      <td>K Hariharan</td>\n",
       "      <td>NaN</td>\n",
       "    </tr>\n",
       "  </tbody>\n",
       "</table>\n",
       "</div>"
      ],
      "text/plain": [
       "   id  season        city        date                  team1  \\\n",
       "0   1    2008   Bangalore  2008-04-18  Kolkata Knight Riders   \n",
       "1   2    2008  Chandigarh  2008-04-19    Chennai Super Kings   \n",
       "2   3    2008       Delhi  2008-04-19       Rajasthan Royals   \n",
       "3   4    2008      Mumbai  2008-04-20         Mumbai Indians   \n",
       "4   5    2008     Kolkata  2008-04-20        Deccan Chargers   \n",
       "\n",
       "                         team2                  toss_winner toss_decision  \\\n",
       "0  Royal Challengers Bangalore  Royal Challengers Bangalore         field   \n",
       "1              Kings XI Punjab          Chennai Super Kings           bat   \n",
       "2             Delhi Daredevils             Rajasthan Royals           bat   \n",
       "3  Royal Challengers Bangalore               Mumbai Indians           bat   \n",
       "4        Kolkata Knight Riders              Deccan Chargers           bat   \n",
       "\n",
       "   result  dl_applied                       winner  win_by_runs  \\\n",
       "0  normal           0        Kolkata Knight Riders          140   \n",
       "1  normal           0          Chennai Super Kings           33   \n",
       "2  normal           0             Delhi Daredevils            0   \n",
       "3  normal           0  Royal Challengers Bangalore            0   \n",
       "4  normal           0        Kolkata Knight Riders            0   \n",
       "\n",
       "   win_by_wickets player_of_match                                       venue  \\\n",
       "0               0     BB McCullum                       M Chinnaswamy Stadium   \n",
       "1               0      MEK Hussey  Punjab Cricket Association Stadium, Mohali   \n",
       "2               9     MF Maharoof                            Feroz Shah Kotla   \n",
       "3               5      MV Boucher                            Wankhede Stadium   \n",
       "4               5       DJ Hussey                                Eden Gardens   \n",
       "\n",
       "     umpire1         umpire2  umpire3  \n",
       "0  Asad Rauf     RE Koertzen      NaN  \n",
       "1  MR Benson      SL Shastri      NaN  \n",
       "2  Aleem Dar  GA Pratapkumar      NaN  \n",
       "3   SJ Davis       DJ Harper      NaN  \n",
       "4  BF Bowden     K Hariharan      NaN  "
      ]
     },
     "execution_count": 45,
     "metadata": {},
     "output_type": "execute_result"
    }
   ],
   "source": [
    "#read matches.csv from data folder\n",
    "#print ts shape, columns and first 10 index (df.index) and needs to be inside list\n",
    "# print head of df\n",
    "\n",
    "df=pd.read_csv('data/matches.csv')\n",
    "\n",
    "\n",
    "print(df.shape)\n",
    "print(df.columns)\n",
    "print(list(df.index)[1:10])\n",
    "df.head()"
   ]
  },
  {
   "cell_type": "markdown",
   "metadata": {},
   "source": [
    "### Subsetting DataFrames"
   ]
  },
  {
   "cell_type": "code",
   "execution_count": 54,
   "metadata": {
    "collapsed": false
   },
   "outputs": [
    {
     "data": {
      "text/plain": [
       "3"
      ]
     },
     "execution_count": 54,
     "metadata": {},
     "output_type": "execute_result"
    }
   ],
   "source": [
    "# Only Bangalore games\n",
    "# subset data frame where city is bangalore\n",
    "# on the above subset get winners list\n",
    "# use isin function to subset where season is 2008,2015. \n",
    "# get only season and toss_winner from above subset\n",
    "#use value_counts() in winner\n",
    "# use isnull().sum() to get total of NAs\n",
    "#df[df[\"city\"]==\"Bangalore\"][]\n",
    "#df[df[\"city\"]==\"Bangalore\"][['winner','toss_winner']]\n",
    "#print(df[df['season'].isin([2008,2015])]['winner'])\n",
    "\n",
    "#df['winner'].value_counts()\n",
    "df['winner'].isnull().sum()"
   ]
  },
  {
   "cell_type": "markdown",
   "metadata": {},
   "source": [
    " index, ix, loc, iloc"
   ]
  },
  {
   "cell_type": "code",
   "execution_count": 59,
   "metadata": {
    "collapsed": false
   },
   "outputs": [],
   "source": [
    "#reset index with inplace true\n",
    "# set index to set 'date' as index, inplace true\n",
    "# iloc 0 to 10\n",
    "#loc 2008-04-10\n",
    "#ix any\n",
    "#loc range 2008-04-18 to 2008-04-21\n",
    "#iloc from 10 to 12\n",
    "\n",
    "df.reset_index(inplace=True)\n",
    "#df.set_index('date',inplace=True)\n",
    "#df.head()\n",
    "#df.iloc[0:10]\n",
    "#df.loc[50]\n",
    "#df.ix[0]\n",
    "#df.loc['2008-04-18','2008-04-21']"
   ]
  },
  {
   "cell_type": "markdown",
   "metadata": {},
   "source": [
    "### Missing Values"
   ]
  },
  {
   "cell_type": "code",
   "execution_count": 60,
   "metadata": {
    "collapsed": false
   },
   "outputs": [
    {
     "data": {
      "text/plain": [
       "date                 0\n",
       "level_0              0\n",
       "index                0\n",
       "id                   0\n",
       "season               0\n",
       "city                 0\n",
       "team1                0\n",
       "team2                0\n",
       "toss_winner          0\n",
       "toss_decision        0\n",
       "result               0\n",
       "dl_applied           0\n",
       "winner               3\n",
       "win_by_runs          0\n",
       "win_by_wickets       0\n",
       "player_of_match      3\n",
       "venue                0\n",
       "umpire1              0\n",
       "umpire2              0\n",
       "umpire3            577\n",
       "dtype: int64"
      ]
     },
     "execution_count": 60,
     "metadata": {},
     "output_type": "execute_result"
    }
   ],
   "source": [
    "#filla atribute on df city. inplace true. bfill method\n",
    "#check with isnull sum\n",
    "df['city'].fillna('bfill',inplace=True)\n",
    "df.isnull().sum()\n",
    "\n"
   ]
  },
  {
   "cell_type": "markdown",
   "metadata": {},
   "source": [
    "### Creating DataFrames"
   ]
  },
  {
   "cell_type": "code",
   "execution_count": 62,
   "metadata": {
    "collapsed": false
   },
   "outputs": [
    {
     "data": {
      "text/html": [
       "<div>\n",
       "<table border=\"1\" class=\"dataframe\">\n",
       "  <thead>\n",
       "    <tr style=\"text-align: right;\">\n",
       "      <th></th>\n",
       "      <th>Ductile</th>\n",
       "      <th>YM</th>\n",
       "      <th>metal</th>\n",
       "    </tr>\n",
       "  </thead>\n",
       "  <tbody>\n",
       "    <tr>\n",
       "      <th>m1</th>\n",
       "      <td>True</td>\n",
       "      <td>200</td>\n",
       "      <td>steel</td>\n",
       "    </tr>\n",
       "    <tr>\n",
       "      <th>m2</th>\n",
       "      <td>True</td>\n",
       "      <td>100</td>\n",
       "      <td>copper</td>\n",
       "    </tr>\n",
       "    <tr>\n",
       "      <th>m3</th>\n",
       "      <td>False</td>\n",
       "      <td>50</td>\n",
       "      <td>wood</td>\n",
       "    </tr>\n",
       "  </tbody>\n",
       "</table>\n",
       "</div>"
      ],
      "text/plain": [
       "   Ductile   YM   metal\n",
       "m1    True  200   steel\n",
       "m2    True  100  copper\n",
       "m3   False   50    wood"
      ]
     },
     "execution_count": 62,
     "metadata": {},
     "output_type": "execute_result"
    }
   ],
   "source": [
    "df1=pd.DataFrame({'metal':['steel','copper','wood'],'YM':[200,100,50],'Ductile':[True,True,False]},index=['m1','m2','m3'])\n",
    "df1\n"
   ]
  },
  {
   "cell_type": "markdown",
   "metadata": {},
   "source": [
    "## adding and dropping rows/colums"
   ]
  },
  {
   "cell_type": "code",
   "execution_count": 64,
   "metadata": {
    "collapsed": false
   },
   "outputs": [
    {
     "data": {
      "text/html": [
       "<div>\n",
       "<table border=\"1\" class=\"dataframe\">\n",
       "  <thead>\n",
       "    <tr style=\"text-align: right;\">\n",
       "      <th></th>\n",
       "      <th>Ductile</th>\n",
       "      <th>YM</th>\n",
       "      <th>metal</th>\n",
       "    </tr>\n",
       "  </thead>\n",
       "  <tbody>\n",
       "    <tr>\n",
       "      <th>m1</th>\n",
       "      <td>True</td>\n",
       "      <td>200.0</td>\n",
       "      <td>steel</td>\n",
       "    </tr>\n",
       "    <tr>\n",
       "      <th>m2</th>\n",
       "      <td>True</td>\n",
       "      <td>100.0</td>\n",
       "      <td>copper</td>\n",
       "    </tr>\n",
       "    <tr>\n",
       "      <th>m3</th>\n",
       "      <td>False</td>\n",
       "      <td>50.0</td>\n",
       "      <td>wood</td>\n",
       "    </tr>\n",
       "    <tr>\n",
       "      <th>m4</th>\n",
       "      <td>false</td>\n",
       "      <td>0.1</td>\n",
       "      <td>cement</td>\n",
       "    </tr>\n",
       "  </tbody>\n",
       "</table>\n",
       "</div>"
      ],
      "text/plain": [
       "   Ductile     YM   metal\n",
       "m1    True  200.0   steel\n",
       "m2    True  100.0  copper\n",
       "m3   False   50.0    wood\n",
       "m4   false    0.1  cement"
      ]
     },
     "execution_count": 64,
     "metadata": {},
     "output_type": "execute_result"
    }
   ],
   "source": [
    "#add column using ix on index m4. False, 0.1, cement\n",
    "#drop m4 axis 0 with drop method\n",
    "\n",
    "df1.loc['m4']=['false',0.1,'cement']\n",
    "df1\n",
    "df1.drop('m4',axis=0,inplace=true)\n",
    "df1\n"
   ]
  },
  {
   "cell_type": "markdown",
   "metadata": {},
   "source": [
    "### Merging dataframes "
   ]
  },
  {
   "cell_type": "code",
   "execution_count": 69,
   "metadata": {
    "collapsed": false
   },
   "outputs": [
    {
     "data": {
      "text/html": [
       "<div>\n",
       "<table border=\"1\" class=\"dataframe\">\n",
       "  <thead>\n",
       "    <tr style=\"text-align: right;\">\n",
       "      <th></th>\n",
       "      <th>Ductile</th>\n",
       "      <th>YM</th>\n",
       "      <th>metal</th>\n",
       "      <th>UTS (Mpa)</th>\n",
       "    </tr>\n",
       "  </thead>\n",
       "  <tbody>\n",
       "    <tr>\n",
       "      <th>0</th>\n",
       "      <td>True</td>\n",
       "      <td>200.0</td>\n",
       "      <td>steel</td>\n",
       "      <td>NaN</td>\n",
       "    </tr>\n",
       "    <tr>\n",
       "      <th>1</th>\n",
       "      <td>True</td>\n",
       "      <td>100.0</td>\n",
       "      <td>copper</td>\n",
       "      <td>NaN</td>\n",
       "    </tr>\n",
       "    <tr>\n",
       "      <th>2</th>\n",
       "      <td>False</td>\n",
       "      <td>50.0</td>\n",
       "      <td>wood</td>\n",
       "      <td>NaN</td>\n",
       "    </tr>\n",
       "    <tr>\n",
       "      <th>3</th>\n",
       "      <td>false</td>\n",
       "      <td>0.1</td>\n",
       "      <td>cement</td>\n",
       "      <td>NaN</td>\n",
       "    </tr>\n",
       "    <tr>\n",
       "      <th>4</th>\n",
       "      <td>NaN</td>\n",
       "      <td>20.0</td>\n",
       "      <td>steel</td>\n",
       "      <td>400.0</td>\n",
       "    </tr>\n",
       "    <tr>\n",
       "      <th>5</th>\n",
       "      <td>NaN</td>\n",
       "      <td>10.0</td>\n",
       "      <td>copper</td>\n",
       "      <td>300.0</td>\n",
       "    </tr>\n",
       "    <tr>\n",
       "      <th>6</th>\n",
       "      <td>NaN</td>\n",
       "      <td>5.0</td>\n",
       "      <td>wood</td>\n",
       "      <td>40.0</td>\n",
       "    </tr>\n",
       "  </tbody>\n",
       "</table>\n",
       "</div>"
      ],
      "text/plain": [
       "  Ductile     YM   metal  UTS (Mpa)\n",
       "0    True  200.0   steel        NaN\n",
       "1    True  100.0  copper        NaN\n",
       "2   False   50.0    wood        NaN\n",
       "3   false    0.1  cement        NaN\n",
       "4     NaN   20.0   steel      400.0\n",
       "5     NaN   10.0  copper      300.0\n",
       "6     NaN    5.0    wood       40.0"
      ]
     },
     "execution_count": 69,
     "metadata": {},
     "output_type": "execute_result"
    }
   ],
   "source": [
    "df2=pd.DataFrame({'metal':['steel','copper','wood'],'UTS (Mpa)':[400,300,40], 'YM':[20,10,5]},index=['me1','me2','me3'])\n",
    "df2\n",
    "\n",
    "#pd.merge(df1,df2,on='metal')\n",
    "pd.merge(df1,df2,how='outer')"
   ]
  },
  {
   "cell_type": "code",
   "execution_count": null,
   "metadata": {
    "collapsed": false
   },
   "outputs": [],
   "source": [
    "## concat df1 df2\n",
    "\n",
    "\n",
    "## merge df1 df2 on metal outer right and left index true\n"
   ]
  },
  {
   "cell_type": "markdown",
   "metadata": {},
   "source": [
    "##### <font color='red'> Student Activity Question 7 [10 mins]</font>\n",
    "   * Following two data sets are taken from [Government of India Community Data repository](https://community.data.gov.in/)\n",
    "   * First data set (roads.csv) is state wise road length (in km) as of 2013\n",
    "   * second data set (accidents.csv) is stae wise accidents from 2006 to 2015\n",
    "   * Following set of tasks require multiple sets. Feel free to use more than 1 cell to complete all the tasks. \n",
    "  \n",
    "   \n",
    "** Questions **\n",
    "1. read roads.csv using pandas read_csv and save it in data frame called roads\n",
    "2. read road_accidents.csv and save it in dataframe called accidents\n",
    "3. print shape of each of the data frame  \n",
    "4. display head of each dataframe \n",
    "5. Use .drop attribute to remove the columns 'category' and 'total' from the dataframe (use inplace=True as the last argument). Also remember that all the columns which needs to be removed has to be passed as a list\n",
    "6. Since the roads data is from 2013, you are only interested in accidents in the year 2013, one year before and one year later. Hence subset the accidents with only 4 columns State/UTs, 2012,2013 and 204\n",
    "7. Merge both the dataframes on State/UTs with inner join since you are not interested in keeping lot of NaNs in this merge data"
   ]
  },
  {
   "cell_type": "code",
   "execution_count": 71,
   "metadata": {
    "collapsed": false
   },
   "outputs": [
    {
     "name": "stdout",
     "output_type": "stream",
     "text": [
      "(31, 4)\n",
      "(37, 11)\n",
      "  Category         States/UTs     Total  Surfaced\n",
      "0   States     Andhra Pradesh  168516.0     93573\n",
      "1   States  Arunachal Pradesh    5262.0      5262\n",
      "2   States              Assam  222087.0     27622\n",
      "3   States              Bihar  167579.0     94421\n",
      "4   States       Chhattisgarh   30295.0     30295\n",
      "          States/UTs     2006     2007     2008     2009     2010     2011  \\\n",
      "0     Andhra Pradesh  17468.0  18859.0  15320.0  17465.0  17996.0  19081.0   \n",
      "1  Arunachal Pradesh    177.0    110.0    212.0    138.0    165.0    140.0   \n",
      "2              Assam   2575.0   2579.0   2776.0   2938.0   3741.0   3951.0   \n",
      "3              Bihar   2048.0   2677.0   3661.0   3968.0   3908.0   4746.0   \n",
      "4       Chhattisgarh   5883.0   5492.0   5849.0   5616.0   6341.0   6402.0   \n",
      "\n",
      "      2012     2013  2014  2015  \n",
      "0  14578.0  17355.0  7815  7263  \n",
      "1    147.0    242.0   149   184  \n",
      "2   4174.0   4112.0  4186  4121  \n",
      "3   5124.0   4470.0  4580  4250  \n",
      "4   6183.0   5824.0  6049  6072  \n",
      "          States/UTs  Surfaced\n",
      "0     Andhra Pradesh     93573\n",
      "1  Arunachal Pradesh      5262\n",
      "2              Assam     27622\n",
      "3              Bihar     94421\n",
      "4       Chhattisgarh     30295\n"
     ]
    }
   ],
   "source": [
    "\n",
    "roads = pd.read_csv('data/roads.csv')\n",
    "accidents = pd.read_csv('data/road_accidents.csv')\n",
    "\n",
    "print(roads.shape)\n",
    "print(accidents.shape)\n",
    "\n",
    "print(roads.head())\n",
    "print(accidents.head())\n",
    "\n",
    "roads.drop(['Category','Total'],axis=1,inplace=True)\n",
    "print(roads.head())"
   ]
  },
  {
   "cell_type": "code",
   "execution_count": null,
   "metadata": {
    "collapsed": false
   },
   "outputs": [],
   "source": [
    "\n"
   ]
  },
  {
   "cell_type": "markdown",
   "metadata": {},
   "source": [
    "## Visualization Via MATPLOTLIB"
   ]
  },
  {
   "cell_type": "code",
   "execution_count": 75,
   "metadata": {
    "collapsed": true
   },
   "outputs": [],
   "source": [
    "import matplotlib.pyplot as plt\n",
    "import seaborn as sns\n",
    "import numpy as np"
   ]
  },
  {
   "cell_type": "code",
   "execution_count": 77,
   "metadata": {
    "collapsed": false
   },
   "outputs": [
    {
     "data": {
      "image/png": "[encoded data removed]",
      "text/plain": [
       "<matplotlib.figure.Figure at 0x169200cc50>"
      ]
     },
     "metadata": {},
     "output_type": "display_data"
    }
   ],
   "source": [
    "pi=22/7\n",
    "x=np.linspace(0,2*pi,100)\n",
    "y=np.sin(x)\n",
    "z=np.cos(x)\n",
    "plt.figure()\n",
    "plt.plot(x,y,label='sine')\n",
    "plt.plot(x,z,label='cosine')\n",
    "plt.xlabel('angles')\n",
    "plt.legend()\n",
    "plt.show()"
   ]
  },
  {
   "cell_type": "code",
   "execution_count": 86,
   "metadata": {
    "collapsed": false
   },
   "outputs": [
    {
     "data": {
      "image/png": "[encoded data removed]",
      "text/plain": [
       "<matplotlib.figure.Figure at 0x1693130128>"
      ]
     },
     "metadata": {},
     "output_type": "display_data"
    }
   ],
   "source": [
    "df=pd.read_csv('data/matches.csv')\n",
    "df.head()\n",
    "windata = df['winner'].value_counts()\n",
    "x=windata.index\n",
    "x1=range(len(windata.index))\n",
    "y=windata.data\n",
    "plt.figure()\n",
    "plt.bar(x1,y)\n",
    "plt.xticks(x1,x,rotation=90,fontsize=20)\n",
    "plt.show()\n"
   ]
  },
  {
   "cell_type": "code",
   "execution_count": 91,
   "metadata": {
    "collapsed": false
   },
   "outputs": [
    {
     "data": {
      "image/png": "[encoded data removed]",
      "text/plain": [
       "<matplotlib.figure.Figure at 0x169323e2e8>"
      ]
     },
     "metadata": {},
     "output_type": "display_data"
    }
   ],
   "source": [
    "#histogram on roads\n",
    "#historgram on normal distributed data \n",
    "# data mu plus sigma*random 10,000 points, ec= black option\n",
    "\n",
    "\n",
    "\n",
    "\n",
    "mu=0\n",
    "sigma=1\n",
    "rdata=mu+sigma*np.random.randn(10000)\n",
    "\n",
    "plt.figure()\n",
    "plt.hist(rdata,bins=20,ec='black',color='yellow')\n",
    "plt.show()"
   ]
  },
  {
   "cell_type": "code",
   "execution_count": null,
   "metadata": {
    "collapsed": true
   },
   "outputs": [],
   "source": []
  }
 ],
 "metadata": {
  "anaconda-cloud": {},
  "kernelspec": {
   "display_name": "Python [default]",
   "language": "python",
   "name": "python3"
  },
  "language_info": {
   "codemirror_mode": {
    "name": "ipython",
    "version": 3
   },
   "file_extension": ".py",
   "mimetype": "text/x-python",
   "name": "python",
   "nbconvert_exporter": "python",
   "pygments_lexer": "ipython3",
   "version": "3.5.2"
  }
 },
 "nbformat": 4,
 "nbformat_minor": 2
}
